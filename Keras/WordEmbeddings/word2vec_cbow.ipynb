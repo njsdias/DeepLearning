{
 "cells": [
  {
   "cell_type": "markdown",
   "metadata": {},
   "source": [
    "### 1. Word Embeddings: GloVe and word2vec\n",
    "Word embeddings are a way to transform words in text to numerical vectors so that they can be\n",
    "analyzed by standard machine learning algorithms that require vectors as numerical input.\n",
    "\n",
    "**One-hot encoding** is the most basic embedding approach. One-hot encoding represents a word in the text by a vector of the size of the vocabulary, where only the entry corresponding to the word is a one and all the other entries are zero. A major problem with one-hot encoding is that there is no way to represent the similarity between\n",
    "words [(cat, dog), (knife, spoon)]. Similarity between vectors is computed using the dot product, which is the sum\n",
    "of element-wise multiplication between vector elements. In the case of one-hot encoded vectors, the\n",
    "dot product between any two words in a corpus is always zero.\n",
    "\n",
    "To overcome the limitations of one-hot encoding, the NLP community has borrowed techniques from\n",
    "information retrieval (IR) to vectorize text using the document as the context. Notable techniques are\n",
    "**TF-IDF** (https://en.wikipedia.org/wiki/Tf%E2%80%93idf), **latent semantic analysis (LSA)** (https://en.wikipedia.org/wiki/Latent_semantic_analysis), and topic modeling (https://en.wikipedia.org/wiki/Topic_model). \n",
    "\n",
    "**Word embedding** differs from previous IR-based techniques in that they use words as their context, which leads to a more natural form of semantic similarity from a human understanding perspective. Today, word embedding is the technique of choice for vectorizing text for all kinds of NLP tasks, such as text classification, document clustering, part of speech tagging, named entity recognition, sentiment analysis, and so on.\n",
    "\n",
    "This notebook covers the **GloVe** and **word2vec** that are the word embedding tecniques that have proven more effective and have been widely adopted in the deep learning and NLP communities. For that the topics cover will be:\n",
    "- Building various distributional representations of words in context\n",
    "- Building models for leveraging embeddings to perform NLP tasks such as sentence parsing and sentiment analysis\n",
    "\n",
    "\n",
    "### 2. Distributed representations\n",
    "Consider the following pair of sentences:\n",
    "\n",
    "        Paris is the capital of France.\n",
    "        Berlin is the capital of Germany.\n",
    "\n",
    "Even assuming you have no knowledge of world geography (or English for that matter), you would\n",
    "still conclude without too much effort that the word pairs (Paris, Berlin) and (France, Germany)\n",
    "were related in some way, and that corresponding words in each pair were related in the same way to\n",
    "each other, that is:\n",
    "\n",
    "        Paris : France :: Berlin : Germany\n",
    "        \n",
    "Thus, the aim of distributed representations is to find a general transformation function $\\varphi$ to convert each word to its associated vector such that relations of the following form hold true: $\\varphi(Paris) - \\varphi(France) \\approx \\varphi(Berlin) - \\varphi(Germany)$\n",
    "\n",
    "In other words, distributed representation aims to convert words to vectors where the similarity between the vectors correlate with the semantic similarity between the words.\n",
    "\n",
    "The most well-known word embeddings are word2vec and GloVe."
   ]
  }
 ],
 "metadata": {
  "kernelspec": {
   "display_name": "Python 3",
   "language": "python",
   "name": "python3"
  },
  "language_info": {
   "codemirror_mode": {
    "name": "ipython",
    "version": 3
   },
   "file_extension": ".py",
   "mimetype": "text/x-python",
   "name": "python",
   "nbconvert_exporter": "python",
   "pygments_lexer": "ipython3",
   "version": "3.6.8"
  }
 },
 "nbformat": 4,
 "nbformat_minor": 2
}

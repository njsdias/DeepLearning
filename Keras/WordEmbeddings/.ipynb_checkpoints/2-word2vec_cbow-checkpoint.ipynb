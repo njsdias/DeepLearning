{
 "cells": [
  {
   "cell_type": "markdown",
   "metadata": {},
   "source": [
    "### The CBOW word2vec model\n",
    "\n",
    "Like the skip-gram model, the CBOW model is a classifier that takes the **context words as input**\n",
    "and predicts the target word. The **input to the model is the word IDs** for the context words. These word IDs are fed into a common **embedding layer** that is initialized with **small random weights**. Each word ID is transformed\n",
    "into a vector of size (*embed_size*) by the embedding layer. Thus, **each row of the input context** is\n",
    "transformed into a **matrix of size (2*window_size, embed_size)** by this layer. This is then fed into a lambda\n",
    "layer, which computes an average of all the embeddings. This **average is then fed to a dense layer**,\n",
    "which creates a dense vector of size (vocab_size) for each row. The **activation function** on the dense\n",
    "layer is a **softmax**, which reports the maximum value on the **output vector as a probability**. The ID\n",
    "with the **maximum probability** corresponds to the **target word**.\n",
    "\n",
    "The deliverable for the CBOW model is the weights from the embedding layer shown in gray in the\n",
    "following figure:\n",
    "\n",
    "<img src=\"cbow.jpg\">"
   ]
  },
  {
   "cell_type": "code",
   "execution_count": null,
   "metadata": {},
   "outputs": [],
   "source": []
  },
  {
   "cell_type": "code",
   "execution_count": null,
   "metadata": {},
   "outputs": [],
   "source": []
  },
  {
   "cell_type": "code",
   "execution_count": null,
   "metadata": {},
   "outputs": [],
   "source": []
  },
  {
   "cell_type": "code",
   "execution_count": null,
   "metadata": {},
   "outputs": [],
   "source": []
  },
  {
   "cell_type": "code",
   "execution_count": null,
   "metadata": {},
   "outputs": [],
   "source": []
  }
 ],
 "metadata": {
  "kernelspec": {
   "display_name": "Python 3",
   "language": "python",
   "name": "python3"
  },
  "language_info": {
   "codemirror_mode": {
    "name": "ipython",
    "version": 3
   },
   "file_extension": ".py",
   "mimetype": "text/x-python",
   "name": "python",
   "nbconvert_exporter": "python",
   "pygments_lexer": "ipython3",
   "version": "3.6.8"
  }
 },
 "nbformat": 4,
 "nbformat_minor": 2
}

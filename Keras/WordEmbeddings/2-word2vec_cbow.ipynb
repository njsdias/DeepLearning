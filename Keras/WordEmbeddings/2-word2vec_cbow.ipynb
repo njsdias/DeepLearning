{
 "cells": [
  {
   "cell_type": "markdown",
   "metadata": {},
   "source": [
    "### The CBOW word2vec model\n",
    "\n",
    "Like the skip-gram model, the CBOW model is a classifier that takes the **context words as input**\n",
    "and predicts the target word. The model predicts the current word given a window of surrounding words.\n",
    "\n",
    "The **input to the model is the word IDs** for the context words. These word IDs are fed into a common **embedding layer** that is initialized with **small random weights**. Each word ID is transformed\n",
    "into a vector of size (*embed_size*) by the embedding layer. Thus, **each row of the input context** is\n",
    "transformed into a **matrix of size (2*window_size, embed_size)** by this layer. This is then fed into a lambda\n",
    "layer, which computes an average of all the embeddings. This **average is then fed to a dense layer**,\n",
    "which creates a dense vector of size (vocab_size) for each row. The **activation function** on the dense\n",
    "layer is a **softmax**, which reports the maximum value on the **output vector as a probability**. The ID\n",
    "with the **maximum probability** corresponds to the **target word**.\n",
    "\n",
    "The deliverable for the CBOW model is the weights from the embedding layer shown in gray in the\n",
    "following figure:\n",
    "\n",
    "<img src=\"cbow.JPG\">"
   ]
  },
  {
   "cell_type": "markdown",
   "metadata": {},
   "source": [
    "Assume a vocabulary size of 5000, an embedding size of 300, and a context window size of 1."
   ]
  },
  {
   "cell_type": "code",
   "execution_count": 1,
   "metadata": {},
   "outputs": [
    {
     "name": "stderr",
     "output_type": "stream",
     "text": [
      "Using TensorFlow backend.\n"
     ]
    }
   ],
   "source": [
    "from keras.models import Sequential\n",
    "from keras.layers.core import Dense, Lambda\n",
    "from keras.layers.embeddings import Embedding\n",
    "import keras.backend as K"
   ]
  },
  {
   "cell_type": "code",
   "execution_count": 3,
   "metadata": {},
   "outputs": [],
   "source": [
    "vocab_size = 5000\n",
    "embed_size = 300\n",
    "window_size = 1"
   ]
  },
  {
   "cell_type": "markdown",
   "metadata": {},
   "source": [
    "We then construct a sequential model, to which we add an **embedding layer** whose **weights are\n",
    "initialized with small random values**. Note that the input_length of this embedding layer is equal to the\n",
    "number of context words. So each context word is fed into this layer and will **update the weights\n",
    "jointly during backpropagation**. The output of this layer is a matrix of context word embeddings,\n",
    "which are averaged into a single vector (per row of input) by the **lambda layer**. Finally, the dense\n",
    "layer will convert each row into a dense vector of size (vocab_size). The target word is the one whose\n",
    "ID has the maximum value in the dense output vector:"
   ]
  },
  {
   "cell_type": "code",
   "execution_count": 4,
   "metadata": {},
   "outputs": [
    {
     "name": "stdout",
     "output_type": "stream",
     "text": [
      "WARNING:tensorflow:From C:\\Users\\ctw00071\\AppData\\Local\\Continuum\\miniconda3\\envs\\test_env\\lib\\site-packages\\tensorflow\\python\\framework\\op_def_library.py:263: colocate_with (from tensorflow.python.framework.ops) is deprecated and will be removed in a future version.\n",
      "Instructions for updating:\n",
      "Colocations handled automatically by placer.\n"
     ]
    }
   ],
   "source": [
    "model = Sequential()\n",
    "model.add(Embedding(input_dim=vocab_size, \n",
    "                    output_dim=embed_size,\n",
    "                    embeddings_initializer='glorot_uniform',\n",
    "                    input_length=window_size*2))\n",
    "\n",
    "model.add(Lambda(lambda x: K.mean(x, axis=1), output_shape= (embed_size,)))\n",
    "model.add(Dense(vocab_size, kernel_initializer='glorot_uniform', activation='softmax'))\n",
    "\"\"\"The loss function used here is categorical_crossentropy, which is a common choice for cases where there\n",
    "are two or more (in our case, vocab_size) categories.\"\"\"\n",
    "model.compile(loss='categorical_crossentropy', optimizer=\"adam\")"
   ]
  },
  {
   "cell_type": "code",
   "execution_count": 5,
   "metadata": {},
   "outputs": [],
   "source": [
    "# get weights\n",
    "weights = model.layers[0].get_weights()[0]"
   ]
  }
 ],
 "metadata": {
  "kernelspec": {
   "display_name": "Python 3",
   "language": "python",
   "name": "python3"
  },
  "language_info": {
   "codemirror_mode": {
    "name": "ipython",
    "version": 3
   },
   "file_extension": ".py",
   "mimetype": "text/x-python",
   "name": "python",
   "nbconvert_exporter": "python",
   "pygments_lexer": "ipython3",
   "version": "3.6.8"
  }
 },
 "nbformat": 4,
 "nbformat_minor": 2
}

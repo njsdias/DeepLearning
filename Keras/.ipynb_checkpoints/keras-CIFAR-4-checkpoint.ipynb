{
 "cells": [
  {
   "cell_type": "markdown",
   "metadata": {},
   "source": [
    "# The CIFAR-10 dataset"
   ]
  },
  {
   "cell_type": "markdown",
   "metadata": {},
   "source": [
    "The CIFAR-10 dataset contains 60,000 color images of 32 x 32 pixels in 3 channels divided into 10\n",
    "classes. Each class contains 6,000 images. The training set contains 50,000 images, while the test sets\n",
    "provides 10,000 images. This image taken from the CIFAR repository (https://www.cs.toronto.edu/~kriz/cifar.ht\n",
    "ml) describes a few random examples from the 10 classes:\n",
    "<img src=\"cifar.jpg\">\n"
   ]
  },
  {
   "cell_type": "markdown",
   "metadata": {},
   "source": [
    "The goal is to recognize previously unseen images and assign them to one of the 10 classes. Let us\n",
    "define a suitable deep net"
   ]
  },
  {
   "cell_type": "code",
   "execution_count": 8,
   "metadata": {},
   "outputs": [],
   "source": [
    "from keras.datasets import cifar10\n",
    "from keras.utils import np_utils\n",
    "from keras.models import Sequential\n",
    "from keras.layers.core import Dense, Dropout, Activation, Flatten\n",
    "from keras.layers.convolutional import Conv2D, MaxPooling2D\n",
    "from keras.optimizers import SGD, Adam, RMSprop\n",
    "import matplotlib.pyplot as plt"
   ]
  },
  {
   "cell_type": "markdown",
   "metadata": {},
   "source": [
    "### Defining Parameters"
   ]
  },
  {
   "cell_type": "code",
   "execution_count": 9,
   "metadata": {},
   "outputs": [],
   "source": [
    "# CIFAR_10 is a set of 60K images 32x32 pixels on 3 channels\n",
    "IMG_CHANNELS = 3\n",
    "IMG_ROWS = 32\n",
    "IMG_COLS = 32\n",
    "#constant\n",
    "BATCH_SIZE = 128\n",
    "NB_EPOCH = 20\n",
    "NB_CLASSES = 10\n",
    "VERBOSE = 1\n",
    "VALIDATION_SPLIT = 0.2\n",
    "OPTIM = RMSprop() #Adam()"
   ]
  },
  {
   "cell_type": "markdown",
   "metadata": {},
   "source": [
    "### Load dataset"
   ]
  },
  {
   "cell_type": "code",
   "execution_count": 10,
   "metadata": {
    "scrolled": true
   },
   "outputs": [
    {
     "name": "stdout",
     "output_type": "stream",
     "text": [
      "X_train shape: (50000, 32, 32, 3)\n",
      "50000 train samples\n",
      "10000 test samples\n"
     ]
    }
   ],
   "source": [
    "#load dataset\n",
    "(X_train, y_train), (X_test, y_test) = cifar10.load_data()\n",
    "print('X_train shape:', X_train.shape)\n",
    "print(X_train.shape[0], 'train samples')\n",
    "print(X_test.shape[0], 'test samples')"
   ]
  },
  {
   "cell_type": "markdown",
   "metadata": {},
   "source": [
    "### One-hot encoding and normalize the images"
   ]
  },
  {
   "cell_type": "code",
   "execution_count": 11,
   "metadata": {},
   "outputs": [],
   "source": [
    "# convert to categorical\n",
    "Y_train = np_utils.to_categorical(y_train, NB_CLASSES)\n",
    "Y_test = np_utils.to_categorical(y_test, NB_CLASSES)\n",
    "# float and normalization\n",
    "X_train = X_train.astype('float32')\n",
    "X_test = X_test.astype('float32')\n",
    "X_train /= 255\n",
    "X_test /= 255"
   ]
  },
  {
   "cell_type": "markdown",
   "metadata": {},
   "source": [
    "### Convolutional Network"
   ]
  },
  {
   "cell_type": "code",
   "execution_count": 6,
   "metadata": {},
   "outputs": [
    {
     "name": "stdout",
     "output_type": "stream",
     "text": [
      "WARNING:tensorflow:From C:\\Users\\ctw00071\\AppData\\Local\\Continuum\\miniconda3\\envs\\test_env\\lib\\site-packages\\keras\\backend\\tensorflow_backend.py:3445: calling dropout (from tensorflow.python.ops.nn_ops) with keep_prob is deprecated and will be removed in a future version.\n",
      "Instructions for updating:\n",
      "Please use `rate` instead of `keep_prob`. Rate should be set to `rate = 1 - keep_prob`.\n",
      "_________________________________________________________________\n",
      "Layer (type)                 Output Shape              Param #   \n",
      "=================================================================\n",
      "conv2d_1 (Conv2D)            (None, 32, 32, 32)        896       \n",
      "_________________________________________________________________\n",
      "activation_1 (Activation)    (None, 32, 32, 32)        0         \n",
      "_________________________________________________________________\n",
      "max_pooling2d_1 (MaxPooling2 (None, 16, 16, 32)        0         \n",
      "_________________________________________________________________\n",
      "dropout_1 (Dropout)          (None, 16, 16, 32)        0         \n",
      "_________________________________________________________________\n",
      "flatten_1 (Flatten)          (None, 8192)              0         \n",
      "_________________________________________________________________\n",
      "dense_1 (Dense)              (None, 512)               4194816   \n",
      "_________________________________________________________________\n",
      "activation_2 (Activation)    (None, 512)               0         \n",
      "_________________________________________________________________\n",
      "dropout_2 (Dropout)          (None, 512)               0         \n",
      "_________________________________________________________________\n",
      "dense_2 (Dense)              (None, 10)                5130      \n",
      "_________________________________________________________________\n",
      "activation_3 (Activation)    (None, 10)                0         \n",
      "=================================================================\n",
      "Total params: 4,200,842\n",
      "Trainable params: 4,200,842\n",
      "Non-trainable params: 0\n",
      "_________________________________________________________________\n"
     ]
    }
   ],
   "source": [
    "#network\n",
    "model = Sequential()\n",
    "\n",
    "# Convolutional\n",
    "model.add(Conv2D(32, (3, 3), padding='same',                        # 32 convolutional filters, each of which\n",
    "                 input_shape=(IMG_ROWS, IMG_COLS, IMG_CHANNELS)))   # with a 3 x 3 size\n",
    "model.add(Activation('relu'))\n",
    "\n",
    "# Maxpooling + Dropout\n",
    "model.add(MaxPooling2D(pool_size=(2, 2)))                           # max-pooling operation with pool size 2 x 2\n",
    "model.add(Dropout(0.25))                                            # dropout at 25% \n",
    "\n",
    "model.add(Flatten())\n",
    "\n",
    "model.add(Dense(512))                                               # dense network with 512 units\n",
    "model.add(Activation('relu'))                                       # ReLU activation\n",
    "model.add(Dropout(0.5))                                             # dropout at 50%  \n",
    "\n",
    "model.add(Dense(NB_CLASSES))\n",
    "model.add(Activation('softmax'))                                    # softmax layer with 10 classes as output\n",
    "model.summary()"
   ]
  },
  {
   "cell_type": "markdown",
   "metadata": {},
   "source": [
    "### Training the model\n",
    "- **Training**: it is used to build our models,\n",
    "- **Validation**: it is used to select the best performing approach\n",
    "- **Test**: it is to check the performance of our best models on fresh unseen data"
   ]
  },
  {
   "cell_type": "code",
   "execution_count": 10,
   "metadata": {},
   "outputs": [
    {
     "name": "stdout",
     "output_type": "stream",
     "text": [
      "Train on 40000 samples, validate on 10000 samples\n",
      "Epoch 1/20\n",
      "40000/40000 [==============================] - 35s 878us/step - loss: 0.6119 - acc: 0.7881 - val_loss: 1.0822 - val_acc: 0.6700\n",
      "Epoch 2/20\n",
      "40000/40000 [==============================] - 35s 871us/step - loss: 0.5869 - acc: 0.7994 - val_loss: 1.0514 - val_acc: 0.6770\n",
      "Epoch 3/20\n",
      "40000/40000 [==============================] - 36s 905us/step - loss: 0.5749 - acc: 0.8031 - val_loss: 1.0790 - val_acc: 0.6657\n",
      "Epoch 4/20\n",
      "40000/40000 [==============================] - 37s 927us/step - loss: 0.5634 - acc: 0.8089 - val_loss: 1.1728 - val_acc: 0.6491\n",
      "Epoch 5/20\n",
      "40000/40000 [==============================] - 40s 1ms/step - loss: 0.5547 - acc: 0.8109 - val_loss: 1.1653 - val_acc: 0.6692\n",
      "Epoch 6/20\n",
      "40000/40000 [==============================] - 37s 914us/step - loss: 0.5459 - acc: 0.8160 - val_loss: 1.1520 - val_acc: 0.6842\n",
      "Epoch 7/20\n",
      "40000/40000 [==============================] - 34s 861us/step - loss: 0.5230 - acc: 0.8256 - val_loss: 1.1329 - val_acc: 0.6863\n",
      "Epoch 8/20\n",
      "40000/40000 [==============================] - 34s 859us/step - loss: 0.5131 - acc: 0.8250 - val_loss: 1.0958 - val_acc: 0.6721\n",
      "Epoch 9/20\n",
      "40000/40000 [==============================] - 35s 863us/step - loss: 0.5047 - acc: 0.8276 - val_loss: 1.1891 - val_acc: 0.6831\n",
      "Epoch 10/20\n",
      "40000/40000 [==============================] - 36s 892us/step - loss: 0.4931 - acc: 0.8327 - val_loss: 1.1224 - val_acc: 0.6757\n",
      "Epoch 11/20\n",
      "40000/40000 [==============================] - 35s 870us/step - loss: 0.4809 - acc: 0.8357 - val_loss: 1.0883 - val_acc: 0.6854\n",
      "Epoch 12/20\n",
      "40000/40000 [==============================] - 35s 864us/step - loss: 0.4729 - acc: 0.8379 - val_loss: 1.1364 - val_acc: 0.6592\n",
      "Epoch 13/20\n",
      "40000/40000 [==============================] - 35s 866us/step - loss: 0.4737 - acc: 0.8413 - val_loss: 1.0948 - val_acc: 0.6830\n",
      "Epoch 14/20\n",
      "40000/40000 [==============================] - 35s 870us/step - loss: 0.4653 - acc: 0.8439 - val_loss: 1.1825 - val_acc: 0.6762\n",
      "Epoch 15/20\n",
      "40000/40000 [==============================] - 35s 881us/step - loss: 0.4472 - acc: 0.8483 - val_loss: 1.2139 - val_acc: 0.6872\n",
      "Epoch 16/20\n",
      "40000/40000 [==============================] - 39s 975us/step - loss: 0.4448 - acc: 0.8524 - val_loss: 1.1879 - val_acc: 0.6830\n",
      "Epoch 17/20\n",
      "40000/40000 [==============================] - 38s 941us/step - loss: 0.4532 - acc: 0.8487 - val_loss: 1.1760 - val_acc: 0.6841\n",
      "Epoch 18/20\n",
      "40000/40000 [==============================] - 38s 952us/step - loss: 0.4404 - acc: 0.8544 - val_loss: 1.3668 - val_acc: 0.6599\n",
      "Epoch 19/20\n",
      "40000/40000 [==============================] - 39s 983us/step - loss: 0.4403 - acc: 0.8532 - val_loss: 1.1567 - val_acc: 0.6848\n",
      "Epoch 20/20\n",
      "40000/40000 [==============================] - 36s 901us/step - loss: 0.4308 - acc: 0.8543 - val_loss: 1.2047 - val_acc: 0.6696\n",
      "10000/10000 [==============================] - 2s 190us/step\n",
      "Test score: 1.1926358695983887\n",
      "Test accuracy: 0.6723\n",
      "dict_keys(['val_loss', 'val_acc', 'loss', 'acc'])\n"
     ]
    }
   ],
   "source": [
    "# Compile\n",
    "model.compile(loss='categorical_crossentropy', \n",
    "              optimizer=OPTIM,\n",
    "              metrics=['accuracy'])\n",
    "#Train\n",
    "history = model.fit(X_train, Y_train,\n",
    "          batch_size=BATCH_SIZE,\n",
    "          epochs=NB_EPOCH, \n",
    "          validation_split=VALIDATION_SPLIT,\n",
    "          verbose=VERBOSE)\n",
    "#Test\n",
    "score = model.evaluate(X_test, Y_test,\n",
    "                       batch_size=BATCH_SIZE, \n",
    "                       verbose=VERBOSE)\n",
    "#Print Result\n",
    "print(\"Test score:\", score[0])\n",
    "print('Test accuracy:', score[1])\n",
    "\n",
    "# list all data in history\n",
    "print(history.history.keys())"
   ]
  },
  {
   "cell_type": "markdown",
   "metadata": {},
   "source": [
    "**Observation:** At each iteration the accuracy improves. \n",
    "                At the end of Training we have: \n",
    "    - Traning: Accuracy = 85.43%\n",
    "    - Validation: Accuracy = 67.23%"
   ]
  },
  {
   "cell_type": "markdown",
   "metadata": {},
   "source": [
    "### Plot Results"
   ]
  },
  {
   "cell_type": "code",
   "execution_count": 11,
   "metadata": {},
   "outputs": [
    {
     "data": {
      "image/png": "[encoded data removed]",
      "text/plain": [
       "<Figure size 432x288 with 1 Axes>"
      ]
     },
     "metadata": {
      "needs_background": "light"
     },
     "output_type": "display_data"
    },
    {
     "data": {
      "image/png": "[encoded data removed]",
      "text/plain": [
       "<Figure size 432x288 with 1 Axes>"
      ]
     },
     "metadata": {
      "needs_background": "light"
     },
     "output_type": "display_data"
    }
   ],
   "source": [
    "# summarize history for accuracy\n",
    "plt.plot(history.history['acc'])\n",
    "plt.plot(history.history['val_acc'])\n",
    "plt.title('model accuracy')\n",
    "plt.ylabel('accuracy')\n",
    "plt.xlabel('epoch')\n",
    "plt.legend(['train', 'test'], loc='upper left')\n",
    "plt.show()\n",
    "# summarize history for loss\n",
    "plt.plot(history.history['loss'])\n",
    "plt.plot(history.history['val_loss'])\n",
    "plt.title('model loss')\n",
    "plt.ylabel('loss')\n",
    "plt.xlabel('epoch')\n",
    "plt.legend(['train', 'test'], loc='upper left')\n",
    "plt.show()"
   ]
  },
  {
   "cell_type": "markdown",
   "metadata": {},
   "source": [
    "### Save the architecture of the model (optional)"
   ]
  },
  {
   "cell_type": "code",
   "execution_count": 13,
   "metadata": {},
   "outputs": [],
   "source": [
    "#save model\n",
    "model_json = model.to_json()\n",
    "open('cifar10_architecture.json', 'w').write(model_json)\n",
    "#And the weights learned by our deep network on the training set\n",
    "model.save_weights('cifar10_weights.h5', overwrite=True)"
   ]
  },
  {
   "cell_type": "markdown",
   "metadata": {},
   "source": [
    "## <font color='brown'> Improving the Network:</font> Deeper Network with Multiple Convolutional Operations"
   ]
  },
  {
   "cell_type": "markdown",
   "metadata": {},
   "source": [
    "One way to improve the performance is to define a deeper network with multiple convolutional\n",
    "operations.In this example, we have a sequence of modules\n",
    "\n",
    "        conv+conv+maxpool+dropout+conv+conv+maxpool"
   ]
  },
  {
   "cell_type": "code",
   "execution_count": 12,
   "metadata": {},
   "outputs": [
    {
     "name": "stdout",
     "output_type": "stream",
     "text": [
      "_________________________________________________________________\n",
      "Layer (type)                 Output Shape              Param #   \n",
      "=================================================================\n",
      "conv2d_5 (Conv2D)            (None, 32, 32, 32)        896       \n",
      "_________________________________________________________________\n",
      "activation_7 (Activation)    (None, 32, 32, 32)        0         \n",
      "_________________________________________________________________\n",
      "conv2d_6 (Conv2D)            (None, 32, 32, 32)        9248      \n",
      "_________________________________________________________________\n",
      "activation_8 (Activation)    (None, 32, 32, 32)        0         \n",
      "_________________________________________________________________\n",
      "max_pooling2d_3 (MaxPooling2 (None, 16, 16, 32)        0         \n",
      "_________________________________________________________________\n",
      "dropout_4 (Dropout)          (None, 16, 16, 32)        0         \n",
      "_________________________________________________________________\n",
      "conv2d_7 (Conv2D)            (None, 16, 16, 64)        18496     \n",
      "_________________________________________________________________\n",
      "activation_9 (Activation)    (None, 16, 16, 64)        0         \n",
      "_________________________________________________________________\n",
      "conv2d_8 (Conv2D)            (None, 16, 16, 64)        36928     \n",
      "_________________________________________________________________\n",
      "activation_10 (Activation)   (None, 16, 16, 64)        0         \n",
      "_________________________________________________________________\n",
      "max_pooling2d_4 (MaxPooling2 (None, 8, 8, 64)          0         \n",
      "_________________________________________________________________\n",
      "dropout_5 (Dropout)          (None, 8, 8, 64)          0         \n",
      "_________________________________________________________________\n",
      "flatten_2 (Flatten)          (None, 4096)              0         \n",
      "_________________________________________________________________\n",
      "dense_3 (Dense)              (None, 512)               2097664   \n",
      "_________________________________________________________________\n",
      "activation_11 (Activation)   (None, 512)               0         \n",
      "_________________________________________________________________\n",
      "dropout_6 (Dropout)          (None, 512)               0         \n",
      "_________________________________________________________________\n",
      "dense_4 (Dense)              (None, 10)                5130      \n",
      "_________________________________________________________________\n",
      "activation_12 (Activation)   (None, 10)                0         \n",
      "=================================================================\n",
      "Total params: 2,168,362\n",
      "Trainable params: 2,168,362\n",
      "Non-trainable params: 0\n",
      "_________________________________________________________________\n"
     ]
    }
   ],
   "source": [
    "#network\n",
    "model = Sequential()\n",
    "\n",
    "# Convolutional\n",
    "model.add(Conv2D(32, kernel_size=3, padding='same',                        # 32 convolutional filters, each of which\n",
    "                 input_shape=(IMG_ROWS, IMG_COLS, IMG_CHANNELS)))   # with a 3 x 3 size\n",
    "model.add(Activation('relu'))\n",
    "\n",
    "# Convolutional\n",
    "model.add(Conv2D(32, kernel_size=3, padding='same'))                       # 32 convolutional filters, each of which\n",
    "model.add(Activation('relu'))                                       # with a 3 x 3 size\n",
    "\n",
    "# Maxpooling + Dropout\n",
    "model.add(MaxPooling2D(pool_size=(2, 2)))                           # max-pooling operation with pool size 2 x 2\n",
    "model.add(Dropout(0.25))                                            # dropout at 25% \n",
    "\n",
    "# Convolutional\n",
    "model.add(Conv2D(64, kernel_size=3, padding='same'))                       # 64 convolutional filters, each of which\n",
    "model.add(Activation('relu'))                                       # with a 3 x 3 size\n",
    "\n",
    "# Convolutional\n",
    "model.add(Conv2D(64, kernel_size=3, padding='same'))                       # 64 convolutional filters, each of which\n",
    "model.add(Activation('relu'))                                       # with a 3 x 3 size\n",
    "\n",
    "# Maxpooling + Dropout\n",
    "model.add(MaxPooling2D(pool_size=(2, 2)))                           # max-pooling operation with pool size 2 x 2\n",
    "model.add(Dropout(0.25))                                            # dropout at 25% \n",
    "\n",
    "model.add(Flatten())\n",
    "\n",
    "model.add(Dense(512))                                               # dense network with 512 units\n",
    "model.add(Activation('relu'))                                       # ReLU activation\n",
    "model.add(Dropout(0.5))                                             # dropout at 50%  \n",
    "\n",
    "model.add(Dense(NB_CLASSES))\n",
    "model.add(Activation('softmax'))                                    # softmax layer with 10 classes as output\n",
    "\n",
    "model.summary()"
   ]
  },
  {
   "cell_type": "markdown",
   "metadata": {},
   "source": [
    "### Compile, Training, Testing"
   ]
  },
  {
   "cell_type": "code",
   "execution_count": 13,
   "metadata": {},
   "outputs": [
    {
     "name": "stdout",
     "output_type": "stream",
     "text": [
      "WARNING:tensorflow:From C:\\Users\\ctw00071\\AppData\\Local\\Continuum\\miniconda3\\envs\\test_env\\lib\\site-packages\\tensorflow\\python\\ops\\math_ops.py:3066: to_int32 (from tensorflow.python.ops.math_ops) is deprecated and will be removed in a future version.\n",
      "Instructions for updating:\n",
      "Use tf.cast instead.\n",
      "Train on 40000 samples, validate on 10000 samples\n",
      "Epoch 1/40\n",
      "40000/40000 [==============================] - 104s 3ms/step - loss: 1.7739 - acc: 0.3611 - val_loss: 1.4153 - val_acc: 0.4931\n",
      "Epoch 2/40\n",
      "40000/40000 [==============================] - 103s 3ms/step - loss: 1.3236 - acc: 0.5278 - val_loss: 1.2084 - val_acc: 0.5927\n",
      "Epoch 3/40\n",
      "40000/40000 [==============================] - 101s 3ms/step - loss: 1.1173 - acc: 0.6055 - val_loss: 1.0314 - val_acc: 0.6421\n",
      "Epoch 4/40\n",
      "40000/40000 [==============================] - 104s 3ms/step - loss: 0.9718 - acc: 0.6610 - val_loss: 0.8540 - val_acc: 0.7000\n",
      "Epoch 5/40\n",
      "40000/40000 [==============================] - 102s 3ms/step - loss: 0.8802 - acc: 0.6947 - val_loss: 0.8595 - val_acc: 0.7040\n",
      "Epoch 6/40\n",
      "40000/40000 [==============================] - 101s 3ms/step - loss: 0.8026 - acc: 0.7186 - val_loss: 0.9536 - val_acc: 0.6608\n",
      "Epoch 7/40\n",
      "40000/40000 [==============================] - 104s 3ms/step - loss: 0.7411 - acc: 0.7423 - val_loss: 0.8395 - val_acc: 0.7093\n",
      "Epoch 8/40\n",
      "40000/40000 [==============================] - 103s 3ms/step - loss: 0.6916 - acc: 0.7598 - val_loss: 0.7434 - val_acc: 0.7489\n",
      "Epoch 9/40\n",
      "40000/40000 [==============================] - 100s 3ms/step - loss: 0.6496 - acc: 0.7761 - val_loss: 0.7478 - val_acc: 0.7663\n",
      "Epoch 10/40\n",
      "40000/40000 [==============================] - 105s 3ms/step - loss: 0.6345 - acc: 0.7827 - val_loss: 0.7243 - val_acc: 0.7539\n",
      "Epoch 11/40\n",
      "40000/40000 [==============================] - 99s 2ms/step - loss: 0.6058 - acc: 0.7951 - val_loss: 0.8312 - val_acc: 0.7413\n",
      "Epoch 12/40\n",
      "40000/40000 [==============================] - 105s 3ms/step - loss: 0.5865 - acc: 0.8013 - val_loss: 0.7291 - val_acc: 0.7611\n",
      "Epoch 13/40\n",
      "40000/40000 [==============================] - 103s 3ms/step - loss: 0.5765 - acc: 0.8043 - val_loss: 0.7689 - val_acc: 0.7628\n",
      "Epoch 14/40\n",
      "40000/40000 [==============================] - 101s 3ms/step - loss: 0.5662 - acc: 0.8120 - val_loss: 0.7357 - val_acc: 0.7596\n",
      "Epoch 15/40\n",
      "40000/40000 [==============================] - 102s 3ms/step - loss: 0.5673 - acc: 0.8147 - val_loss: 0.8159 - val_acc: 0.7797\n",
      "Epoch 16/40\n",
      "40000/40000 [==============================] - 101s 3ms/step - loss: 0.5556 - acc: 0.8158 - val_loss: 0.8509 - val_acc: 0.7583\n",
      "Epoch 17/40\n",
      "40000/40000 [==============================] - 109s 3ms/step - loss: 0.5546 - acc: 0.8187 - val_loss: 0.7632 - val_acc: 0.7789\n",
      "Epoch 18/40\n",
      "40000/40000 [==============================] - 106s 3ms/step - loss: 0.5556 - acc: 0.8224 - val_loss: 0.8930 - val_acc: 0.7510\n",
      "Epoch 19/40\n",
      "40000/40000 [==============================] - 104s 3ms/step - loss: 0.5559 - acc: 0.8193 - val_loss: 0.6928 - val_acc: 0.7786\n",
      "Epoch 20/40\n",
      "40000/40000 [==============================] - 101s 3ms/step - loss: 0.5568 - acc: 0.8190 - val_loss: 0.8536 - val_acc: 0.7896\n",
      "Epoch 21/40\n",
      "40000/40000 [==============================] - 102s 3ms/step - loss: 0.5575 - acc: 0.8211 - val_loss: 0.9032 - val_acc: 0.7739\n",
      "Epoch 22/40\n",
      "40000/40000 [==============================] - 100s 2ms/step - loss: 0.5528 - acc: 0.8207 - val_loss: 1.3420 - val_acc: 0.7470\n",
      "Epoch 23/40\n",
      "40000/40000 [==============================] - 102s 3ms/step - loss: 0.5604 - acc: 0.8188 - val_loss: 0.8474 - val_acc: 0.7775\n",
      "Epoch 24/40\n",
      "40000/40000 [==============================] - 103s 3ms/step - loss: 0.5599 - acc: 0.8228 - val_loss: 0.7420 - val_acc: 0.7746\n",
      "Epoch 25/40\n",
      "40000/40000 [==============================] - 101s 3ms/step - loss: 0.5549 - acc: 0.8227 - val_loss: 0.8122 - val_acc: 0.7692\n",
      "Epoch 26/40\n",
      "40000/40000 [==============================] - 102s 3ms/step - loss: 0.5654 - acc: 0.8216 - val_loss: 0.7118 - val_acc: 0.7792\n",
      "Epoch 27/40\n",
      "40000/40000 [==============================] - 104s 3ms/step - loss: 0.5584 - acc: 0.8228 - val_loss: 0.9085 - val_acc: 0.7774\n",
      "Epoch 28/40\n",
      "40000/40000 [==============================] - 104s 3ms/step - loss: 0.5678 - acc: 0.8195 - val_loss: 0.9282 - val_acc: 0.7545\n",
      "Epoch 29/40\n",
      "40000/40000 [==============================] - 104s 3ms/step - loss: 0.5666 - acc: 0.8207 - val_loss: 0.7165 - val_acc: 0.7855\n",
      "Epoch 30/40\n",
      "40000/40000 [==============================] - 106s 3ms/step - loss: 0.5681 - acc: 0.8216 - val_loss: 1.0018 - val_acc: 0.7864\n",
      "Epoch 31/40\n",
      "40000/40000 [==============================] - 106s 3ms/step - loss: 0.5704 - acc: 0.8203 - val_loss: 0.7520 - val_acc: 0.7663\n",
      "Epoch 32/40\n",
      "40000/40000 [==============================] - 109s 3ms/step - loss: 0.5786 - acc: 0.8171 - val_loss: 1.0557 - val_acc: 0.7721\n",
      "Epoch 33/40\n",
      "40000/40000 [==============================] - 104s 3ms/step - loss: 0.5929 - acc: 0.8159 - val_loss: 0.8106 - val_acc: 0.7665\n",
      "Epoch 34/40\n",
      "40000/40000 [==============================] - 108s 3ms/step - loss: 0.5851 - acc: 0.8161 - val_loss: 0.9337 - val_acc: 0.7742\n",
      "Epoch 35/40\n",
      "40000/40000 [==============================] - 108s 3ms/step - loss: 0.5891 - acc: 0.8173 - val_loss: 0.7528 - val_acc: 0.7634\n",
      "Epoch 36/40\n",
      "40000/40000 [==============================] - 107s 3ms/step - loss: 0.5924 - acc: 0.8167 - val_loss: 1.0154 - val_acc: 0.7852\n",
      "Epoch 37/40\n",
      "40000/40000 [==============================] - 105s 3ms/step - loss: 0.5928 - acc: 0.8174 - val_loss: 0.8448 - val_acc: 0.7783\n",
      "Epoch 38/40\n",
      "40000/40000 [==============================] - 102s 3ms/step - loss: 0.6018 - acc: 0.8121 - val_loss: 0.8904 - val_acc: 0.7823\n",
      "Epoch 39/40\n",
      "40000/40000 [==============================] - 101s 3ms/step - loss: 0.5976 - acc: 0.8138 - val_loss: 0.8312 - val_acc: 0.7464\n",
      "Epoch 40/40\n",
      "40000/40000 [==============================] - 101s 3ms/step - loss: 0.5938 - acc: 0.8166 - val_loss: 0.7418 - val_acc: 0.7825\n",
      "10000/10000 [==============================] - 10s 1ms/step\n",
      "Test score: 0.7532805663108826\n",
      "Test accuracy: 0.7806\n",
      "dict_keys(['val_loss', 'val_acc', 'loss', 'acc'])\n"
     ]
    }
   ],
   "source": [
    "NB_EPOCH = 40   # change the NB_EPOCH from 20 to 40\n",
    "# Compile\n",
    "model.compile(loss='categorical_crossentropy', \n",
    "              optimizer=OPTIM,\n",
    "              metrics=['accuracy'])\n",
    "#Train\n",
    "history = model.fit(X_train, Y_train,\n",
    "                    batch_size=BATCH_SIZE,\n",
    "                    epochs=NB_EPOCH, \n",
    "                    validation_split=VALIDATION_SPLIT,\n",
    "                    verbose=VERBOSE)\n",
    "#Test\n",
    "score = model.evaluate(X_test, Y_test,\n",
    "                       batch_size=BATCH_SIZE, \n",
    "                       verbose=VERBOSE)\n",
    "#Print Result\n",
    "print(\"Test score:\", score[0])\n",
    "print('Test accuracy:', score[1])\n",
    "\n",
    "# list all data in history\n",
    "print(history.history.keys())"
   ]
  },
  {
   "cell_type": "markdown",
   "metadata": {},
   "source": [
    "**Observation:** At each iteration the accuracy improves. \n",
    "                At the end of Training we have: \n",
    "    - Traning: Accuracy = 81.66%\n",
    "    - Validation: Accuracy = 78.25%"
   ]
  },
  {
   "cell_type": "markdown",
   "metadata": {},
   "source": [
    "### Plot Results"
   ]
  },
  {
   "cell_type": "code",
   "execution_count": 15,
   "metadata": {},
   "outputs": [
    {
     "name": "stdout",
     "output_type": "stream",
     "text": [
      "dict_keys(['val_loss', 'val_acc', 'loss', 'acc'])\n"
     ]
    },
    {
     "data": {
      "image/png": "[encoded data removed]",
      "text/plain": [
       "<Figure size 432x288 with 1 Axes>"
      ]
     },
     "metadata": {
      "needs_background": "light"
     },
     "output_type": "display_data"
    },
    {
     "data": {
      "image/png": "[encoded data removed]",
      "text/plain": [
       "<Figure size 432x288 with 1 Axes>"
      ]
     },
     "metadata": {
      "needs_background": "light"
     },
     "output_type": "display_data"
    }
   ],
   "source": [
    "# list all data in history\n",
    "print(history.history.keys())\n",
    "# summarize history for accuracy\n",
    "plt.plot(history.history['acc'])\n",
    "plt.plot(history.history['val_acc'])\n",
    "plt.title('model accuracy')\n",
    "plt.ylabel('accuracy')\n",
    "plt.xlabel('epoch')\n",
    "plt.legend(['train', 'test'], loc='upper left')\n",
    "plt.show()\n",
    "# summarize history for loss\n",
    "plt.plot(history.history['loss'])\n",
    "plt.plot(history.history['val_loss'])\n",
    "plt.title('model loss')\n",
    "plt.ylabel('loss')\n",
    "plt.xlabel('epoch')\n",
    "plt.legend(['train', 'test'], loc='upper left')\n",
    "plt.show()"
   ]
  },
  {
   "cell_type": "markdown",
   "metadata": {},
   "source": [
    "### Save Model (optional)"
   ]
  },
  {
   "cell_type": "code",
   "execution_count": 16,
   "metadata": {},
   "outputs": [],
   "source": [
    "model_json = model.to_json()\n",
    "open('cifar10_architecture.json', 'w').write(model_json)\n",
    "model.save_weights('cifar10_weights.h5', overwrite=True)"
   ]
  },
  {
   "cell_type": "markdown",
   "metadata": {},
   "source": [
    "## <font color='brown'> Improving the Network:</font> Data Augumentation\n",
    "\n",
    "Using **CIFAR training set** and augment this set with multiple types\n",
    "of **transformations**: \n",
    "- rotation, \n",
    "- rescaling, \n",
    "- horizontal/vertical flip, \n",
    "- zooming, \n",
    "- channel shift, etc."
   ]
  },
  {
   "cell_type": "code",
   "execution_count": 17,
   "metadata": {},
   "outputs": [],
   "source": [
    "from keras.preprocessing.image import ImageDataGenerator"
   ]
  },
  {
   "cell_type": "raw",
   "metadata": {},
   "source": [
    "# Augumenting\n",
    "print(\"Augmenting training set images...\")\n",
    "datagen = ImageDataGenerator(rotation_range=40,                # > value in degrees (0 - 180) rotating pictures: randomly           \n",
    "                             width_shift_range=0.2,            # > translating pictures horizontally: randomly\n",
    "                             height_shift_range=0.2,           # > translating pictures vertically: randomly \n",
    "                             zoom_range=0.2,                   # > zooming pictures: randomly  \n",
    "                             horizontal_flip=True,             # > flipping half of the images horizontally: randomly\n",
    "                             fill_mode='nearest')              # > filling in new pixels that can appear after \n",
    "                                                               # a rotation or a shift"
   ]
  },
  {
   "cell_type": "raw",
   "metadata": {},
   "source": [
    "NUM_TO_AUGMENT=5\n",
    "xtas, ytas = [], []\n",
    "for i in range(X_train.shape[0]):\n",
    "    num_aug = 0\n",
    "    x = X_train[i] # (3, 32, 32)\n",
    "    x = x.reshape((1,) + x.shape) # (1, 3, 32, 32)\n",
    "    \n",
    "    for x_aug in datagen.flow(x, batch_size=1,save_to_dir='preview', save_prefix='cifar', save_format='jpeg'):\n",
    "        if num_aug >= NUM_TO_AUGMENT:\n",
    "            break\n",
    "        xtas.append(x_aug[0])\n",
    "    num_aug += 1"
   ]
  },
  {
   "cell_type": "code",
   "execution_count": 18,
   "metadata": {},
   "outputs": [],
   "source": [
    "datagen = ImageDataGenerator(\n",
    "    featurewise_center=False,                  # set input mean to 0 over the dataset\n",
    "    samplewise_center=False,                   # set each sample mean to 0\n",
    "    featurewise_std_normalization=False,       # divide inputs by std of the dataset\n",
    "    samplewise_std_normalization=False,        # divide each input by its std\n",
    "    zca_whitening=False,                       # apply ZCA whitening\n",
    "    rotation_range=0,                          # randomly rotate images in the range (degrees, 0 to 180)\n",
    "    width_shift_range=0.1,                     # randomly shift images horizontally (fraction of total width)\n",
    "    height_shift_range=0.1,                    # randomly shift images vertically (fraction of total height)\n",
    "    horizontal_flip=True,                      # randomly flip images\n",
    "    vertical_flip=False)                       # randomly flip images"
   ]
  },
  {
   "cell_type": "code",
   "execution_count": 21,
   "metadata": {},
   "outputs": [
    {
     "name": "stdout",
     "output_type": "stream",
     "text": [
      "Epoch 1/50\n",
      "391/390 [==============================] - 115s 295ms/step - loss: 0.9872 - acc: 0.6797\n",
      "Epoch 2/50\n",
      "391/390 [==============================] - 116s 297ms/step - loss: 0.9916 - acc: 0.6787\n",
      "Epoch 3/50\n",
      " 85/390 [=====>........................] - ETA: 1:29 - loss: 0.9917 - acc: 0.6714"
     ]
    },
    {
     "ename": "KeyboardInterrupt",
     "evalue": "",
     "output_type": "error",
     "traceback": [
      "\u001b[1;31m---------------------------------------------------------------------------\u001b[0m",
      "\u001b[1;31mKeyboardInterrupt\u001b[0m                         Traceback (most recent call last)",
      "\u001b[1;32m<ipython-input-21-019ad7b5c0d2>\u001b[0m in \u001b[0;36m<module>\u001b[1;34m\u001b[0m\n\u001b[0;32m     13\u001b[0m                               \u001b[0msteps_per_epoch\u001b[0m \u001b[1;33m=\u001b[0m \u001b[0mX_train\u001b[0m\u001b[1;33m.\u001b[0m\u001b[0mshape\u001b[0m\u001b[1;33m[\u001b[0m\u001b[1;36m0\u001b[0m\u001b[1;33m]\u001b[0m\u001b[1;33m/\u001b[0m\u001b[0mBATCH_SIZE\u001b[0m\u001b[1;33m,\u001b[0m\u001b[1;33m\u001b[0m\u001b[1;33m\u001b[0m\u001b[0m\n\u001b[0;32m     14\u001b[0m                               \u001b[0mepochs\u001b[0m\u001b[1;33m=\u001b[0m\u001b[0mNB_EPOCH\u001b[0m\u001b[1;33m,\u001b[0m\u001b[1;33m\u001b[0m\u001b[1;33m\u001b[0m\u001b[0m\n\u001b[1;32m---> 15\u001b[1;33m                               verbose=VERBOSE)\n\u001b[0m\u001b[0;32m     16\u001b[0m \u001b[1;33m\u001b[0m\u001b[0m\n\u001b[0;32m     17\u001b[0m \u001b[1;31m# Testing\u001b[0m\u001b[1;33m\u001b[0m\u001b[1;33m\u001b[0m\u001b[1;33m\u001b[0m\u001b[0m\n",
      "\u001b[1;32m~\\AppData\\Local\\Continuum\\miniconda3\\envs\\test_env\\lib\\site-packages\\keras\\legacy\\interfaces.py\u001b[0m in \u001b[0;36mwrapper\u001b[1;34m(*args, **kwargs)\u001b[0m\n\u001b[0;32m     89\u001b[0m                 warnings.warn('Update your `' + object_name + '` call to the ' +\n\u001b[0;32m     90\u001b[0m                               'Keras 2 API: ' + signature, stacklevel=2)\n\u001b[1;32m---> 91\u001b[1;33m             \u001b[1;32mreturn\u001b[0m \u001b[0mfunc\u001b[0m\u001b[1;33m(\u001b[0m\u001b[1;33m*\u001b[0m\u001b[0margs\u001b[0m\u001b[1;33m,\u001b[0m \u001b[1;33m**\u001b[0m\u001b[0mkwargs\u001b[0m\u001b[1;33m)\u001b[0m\u001b[1;33m\u001b[0m\u001b[1;33m\u001b[0m\u001b[0m\n\u001b[0m\u001b[0;32m     92\u001b[0m         \u001b[0mwrapper\u001b[0m\u001b[1;33m.\u001b[0m\u001b[0m_original_function\u001b[0m \u001b[1;33m=\u001b[0m \u001b[0mfunc\u001b[0m\u001b[1;33m\u001b[0m\u001b[1;33m\u001b[0m\u001b[0m\n\u001b[0;32m     93\u001b[0m         \u001b[1;32mreturn\u001b[0m \u001b[0mwrapper\u001b[0m\u001b[1;33m\u001b[0m\u001b[1;33m\u001b[0m\u001b[0m\n",
      "\u001b[1;32m~\\AppData\\Local\\Continuum\\miniconda3\\envs\\test_env\\lib\\site-packages\\keras\\engine\\training.py\u001b[0m in \u001b[0;36mfit_generator\u001b[1;34m(self, generator, steps_per_epoch, epochs, verbose, callbacks, validation_data, validation_steps, class_weight, max_queue_size, workers, use_multiprocessing, shuffle, initial_epoch)\u001b[0m\n\u001b[0;32m   1416\u001b[0m             \u001b[0muse_multiprocessing\u001b[0m\u001b[1;33m=\u001b[0m\u001b[0muse_multiprocessing\u001b[0m\u001b[1;33m,\u001b[0m\u001b[1;33m\u001b[0m\u001b[1;33m\u001b[0m\u001b[0m\n\u001b[0;32m   1417\u001b[0m             \u001b[0mshuffle\u001b[0m\u001b[1;33m=\u001b[0m\u001b[0mshuffle\u001b[0m\u001b[1;33m,\u001b[0m\u001b[1;33m\u001b[0m\u001b[1;33m\u001b[0m\u001b[0m\n\u001b[1;32m-> 1418\u001b[1;33m             initial_epoch=initial_epoch)\n\u001b[0m\u001b[0;32m   1419\u001b[0m \u001b[1;33m\u001b[0m\u001b[0m\n\u001b[0;32m   1420\u001b[0m     \u001b[1;33m@\u001b[0m\u001b[0minterfaces\u001b[0m\u001b[1;33m.\u001b[0m\u001b[0mlegacy_generator_methods_support\u001b[0m\u001b[1;33m\u001b[0m\u001b[1;33m\u001b[0m\u001b[0m\n",
      "\u001b[1;32m~\\AppData\\Local\\Continuum\\miniconda3\\envs\\test_env\\lib\\site-packages\\keras\\engine\\training_generator.py\u001b[0m in \u001b[0;36mfit_generator\u001b[1;34m(model, generator, steps_per_epoch, epochs, verbose, callbacks, validation_data, validation_steps, class_weight, max_queue_size, workers, use_multiprocessing, shuffle, initial_epoch)\u001b[0m\n\u001b[0;32m    215\u001b[0m                 outs = model.train_on_batch(x, y,\n\u001b[0;32m    216\u001b[0m                                             \u001b[0msample_weight\u001b[0m\u001b[1;33m=\u001b[0m\u001b[0msample_weight\u001b[0m\u001b[1;33m,\u001b[0m\u001b[1;33m\u001b[0m\u001b[1;33m\u001b[0m\u001b[0m\n\u001b[1;32m--> 217\u001b[1;33m                                             class_weight=class_weight)\n\u001b[0m\u001b[0;32m    218\u001b[0m \u001b[1;33m\u001b[0m\u001b[0m\n\u001b[0;32m    219\u001b[0m                 \u001b[0mouts\u001b[0m \u001b[1;33m=\u001b[0m \u001b[0mto_list\u001b[0m\u001b[1;33m(\u001b[0m\u001b[0mouts\u001b[0m\u001b[1;33m)\u001b[0m\u001b[1;33m\u001b[0m\u001b[1;33m\u001b[0m\u001b[0m\n",
      "\u001b[1;32m~\\AppData\\Local\\Continuum\\miniconda3\\envs\\test_env\\lib\\site-packages\\keras\\engine\\training.py\u001b[0m in \u001b[0;36mtrain_on_batch\u001b[1;34m(self, x, y, sample_weight, class_weight)\u001b[0m\n\u001b[0;32m   1215\u001b[0m             \u001b[0mins\u001b[0m \u001b[1;33m=\u001b[0m \u001b[0mx\u001b[0m \u001b[1;33m+\u001b[0m \u001b[0my\u001b[0m \u001b[1;33m+\u001b[0m \u001b[0msample_weights\u001b[0m\u001b[1;33m\u001b[0m\u001b[1;33m\u001b[0m\u001b[0m\n\u001b[0;32m   1216\u001b[0m         \u001b[0mself\u001b[0m\u001b[1;33m.\u001b[0m\u001b[0m_make_train_function\u001b[0m\u001b[1;33m(\u001b[0m\u001b[1;33m)\u001b[0m\u001b[1;33m\u001b[0m\u001b[1;33m\u001b[0m\u001b[0m\n\u001b[1;32m-> 1217\u001b[1;33m         \u001b[0moutputs\u001b[0m \u001b[1;33m=\u001b[0m \u001b[0mself\u001b[0m\u001b[1;33m.\u001b[0m\u001b[0mtrain_function\u001b[0m\u001b[1;33m(\u001b[0m\u001b[0mins\u001b[0m\u001b[1;33m)\u001b[0m\u001b[1;33m\u001b[0m\u001b[1;33m\u001b[0m\u001b[0m\n\u001b[0m\u001b[0;32m   1218\u001b[0m         \u001b[1;32mreturn\u001b[0m \u001b[0munpack_singleton\u001b[0m\u001b[1;33m(\u001b[0m\u001b[0moutputs\u001b[0m\u001b[1;33m)\u001b[0m\u001b[1;33m\u001b[0m\u001b[1;33m\u001b[0m\u001b[0m\n\u001b[0;32m   1219\u001b[0m \u001b[1;33m\u001b[0m\u001b[0m\n",
      "\u001b[1;32m~\\AppData\\Local\\Continuum\\miniconda3\\envs\\test_env\\lib\\site-packages\\keras\\backend\\tensorflow_backend.py\u001b[0m in \u001b[0;36m__call__\u001b[1;34m(self, inputs)\u001b[0m\n\u001b[0;32m   2713\u001b[0m                 \u001b[1;32mreturn\u001b[0m \u001b[0mself\u001b[0m\u001b[1;33m.\u001b[0m\u001b[0m_legacy_call\u001b[0m\u001b[1;33m(\u001b[0m\u001b[0minputs\u001b[0m\u001b[1;33m)\u001b[0m\u001b[1;33m\u001b[0m\u001b[1;33m\u001b[0m\u001b[0m\n\u001b[0;32m   2714\u001b[0m \u001b[1;33m\u001b[0m\u001b[0m\n\u001b[1;32m-> 2715\u001b[1;33m             \u001b[1;32mreturn\u001b[0m \u001b[0mself\u001b[0m\u001b[1;33m.\u001b[0m\u001b[0m_call\u001b[0m\u001b[1;33m(\u001b[0m\u001b[0minputs\u001b[0m\u001b[1;33m)\u001b[0m\u001b[1;33m\u001b[0m\u001b[1;33m\u001b[0m\u001b[0m\n\u001b[0m\u001b[0;32m   2716\u001b[0m         \u001b[1;32melse\u001b[0m\u001b[1;33m:\u001b[0m\u001b[1;33m\u001b[0m\u001b[1;33m\u001b[0m\u001b[0m\n\u001b[0;32m   2717\u001b[0m             \u001b[1;32mif\u001b[0m \u001b[0mpy_any\u001b[0m\u001b[1;33m(\u001b[0m\u001b[0mis_tensor\u001b[0m\u001b[1;33m(\u001b[0m\u001b[0mx\u001b[0m\u001b[1;33m)\u001b[0m \u001b[1;32mfor\u001b[0m \u001b[0mx\u001b[0m \u001b[1;32min\u001b[0m \u001b[0minputs\u001b[0m\u001b[1;33m)\u001b[0m\u001b[1;33m:\u001b[0m\u001b[1;33m\u001b[0m\u001b[1;33m\u001b[0m\u001b[0m\n",
      "\u001b[1;32m~\\AppData\\Local\\Continuum\\miniconda3\\envs\\test_env\\lib\\site-packages\\keras\\backend\\tensorflow_backend.py\u001b[0m in \u001b[0;36m_call\u001b[1;34m(self, inputs)\u001b[0m\n\u001b[0;32m   2673\u001b[0m             \u001b[0mfetched\u001b[0m \u001b[1;33m=\u001b[0m \u001b[0mself\u001b[0m\u001b[1;33m.\u001b[0m\u001b[0m_callable_fn\u001b[0m\u001b[1;33m(\u001b[0m\u001b[1;33m*\u001b[0m\u001b[0marray_vals\u001b[0m\u001b[1;33m,\u001b[0m \u001b[0mrun_metadata\u001b[0m\u001b[1;33m=\u001b[0m\u001b[0mself\u001b[0m\u001b[1;33m.\u001b[0m\u001b[0mrun_metadata\u001b[0m\u001b[1;33m)\u001b[0m\u001b[1;33m\u001b[0m\u001b[1;33m\u001b[0m\u001b[0m\n\u001b[0;32m   2674\u001b[0m         \u001b[1;32melse\u001b[0m\u001b[1;33m:\u001b[0m\u001b[1;33m\u001b[0m\u001b[1;33m\u001b[0m\u001b[0m\n\u001b[1;32m-> 2675\u001b[1;33m             \u001b[0mfetched\u001b[0m \u001b[1;33m=\u001b[0m \u001b[0mself\u001b[0m\u001b[1;33m.\u001b[0m\u001b[0m_callable_fn\u001b[0m\u001b[1;33m(\u001b[0m\u001b[1;33m*\u001b[0m\u001b[0marray_vals\u001b[0m\u001b[1;33m)\u001b[0m\u001b[1;33m\u001b[0m\u001b[1;33m\u001b[0m\u001b[0m\n\u001b[0m\u001b[0;32m   2676\u001b[0m         \u001b[1;32mreturn\u001b[0m \u001b[0mfetched\u001b[0m\u001b[1;33m[\u001b[0m\u001b[1;33m:\u001b[0m\u001b[0mlen\u001b[0m\u001b[1;33m(\u001b[0m\u001b[0mself\u001b[0m\u001b[1;33m.\u001b[0m\u001b[0moutputs\u001b[0m\u001b[1;33m)\u001b[0m\u001b[1;33m]\u001b[0m\u001b[1;33m\u001b[0m\u001b[1;33m\u001b[0m\u001b[0m\n\u001b[0;32m   2677\u001b[0m \u001b[1;33m\u001b[0m\u001b[0m\n",
      "\u001b[1;32m~\\AppData\\Local\\Continuum\\miniconda3\\envs\\test_env\\lib\\site-packages\\tensorflow\\python\\client\\session.py\u001b[0m in \u001b[0;36m__call__\u001b[1;34m(self, *args, **kwargs)\u001b[0m\n\u001b[0;32m   1437\u001b[0m           ret = tf_session.TF_SessionRunCallable(\n\u001b[0;32m   1438\u001b[0m               \u001b[0mself\u001b[0m\u001b[1;33m.\u001b[0m\u001b[0m_session\u001b[0m\u001b[1;33m.\u001b[0m\u001b[0m_session\u001b[0m\u001b[1;33m,\u001b[0m \u001b[0mself\u001b[0m\u001b[1;33m.\u001b[0m\u001b[0m_handle\u001b[0m\u001b[1;33m,\u001b[0m \u001b[0margs\u001b[0m\u001b[1;33m,\u001b[0m \u001b[0mstatus\u001b[0m\u001b[1;33m,\u001b[0m\u001b[1;33m\u001b[0m\u001b[1;33m\u001b[0m\u001b[0m\n\u001b[1;32m-> 1439\u001b[1;33m               run_metadata_ptr)\n\u001b[0m\u001b[0;32m   1440\u001b[0m         \u001b[1;32mif\u001b[0m \u001b[0mrun_metadata\u001b[0m\u001b[1;33m:\u001b[0m\u001b[1;33m\u001b[0m\u001b[1;33m\u001b[0m\u001b[0m\n\u001b[0;32m   1441\u001b[0m           \u001b[0mproto_data\u001b[0m \u001b[1;33m=\u001b[0m \u001b[0mtf_session\u001b[0m\u001b[1;33m.\u001b[0m\u001b[0mTF_GetBuffer\u001b[0m\u001b[1;33m(\u001b[0m\u001b[0mrun_metadata_ptr\u001b[0m\u001b[1;33m)\u001b[0m\u001b[1;33m\u001b[0m\u001b[1;33m\u001b[0m\u001b[0m\n",
      "\u001b[1;31mKeyboardInterrupt\u001b[0m: "
     ]
    }
   ],
   "source": [
    "NB_EPOCH = 50   # change the NB_EPOCH from 20 to 50\n",
    "\n",
    "# Training\n",
    "#Keras 1\n",
    "\"\"\"\n",
    "history = model.fit_generator(datagen.flow(X_train, Y_train, batch_size=BATCH_SIZE),\n",
    "                              samples_per_epoch=X_train.shape[0],\n",
    "                              nb_epoch=NB_EPOCH,\n",
    "                              verbose=VERBOSE)\n",
    "\"\"\"\n",
    "#Keras 2\n",
    "history = model.fit_generator(datagen.flow(X_train, Y_train, batch_size=BATCH_SIZE),\n",
    "                              steps_per_epoch = X_train.shape[0]/BATCH_SIZE,\n",
    "                              epochs=NB_EPOCH,\n",
    "                              verbose=VERBOSE)\n",
    "\n",
    "# Testing\n",
    "score = model.evaluate(X_test, Y_test,\n",
    "                       batch_size=BATCH_SIZE, \n",
    "                       verbose=VERBOSE)\n",
    "print(\"\\nTest score:\", score[0])\n",
    "print('Test accuracy:', score[1])"
   ]
  },
  {
   "cell_type": "markdown",
   "metadata": {},
   "source": [
    "### Plot Results"
   ]
  },
  {
   "cell_type": "code",
   "execution_count": null,
   "metadata": {},
   "outputs": [],
   "source": [
    "# list all data in history\n",
    "print(history.history.keys())\n",
    "# summarize history for accuracy\n",
    "plt.plot(history.history['acc'])\n",
    "plt.plot(history.history['val_acc'])\n",
    "plt.title('model accuracy')\n",
    "plt.ylabel('accuracy')\n",
    "plt.xlabel('epoch')\n",
    "plt.legend(['train', 'test'], loc='upper left')\n",
    "plt.show()\n",
    "# summarize history for loss\n",
    "plt.plot(history.history['loss'])\n",
    "plt.plot(history.history['val_loss'])\n",
    "plt.title('model loss')\n",
    "plt.ylabel('loss')\n",
    "plt.xlabel('epoch')\n",
    "plt.legend(['train', 'test'], loc='upper left')\n",
    "plt.show()"
   ]
  },
  {
   "cell_type": "markdown",
   "metadata": {},
   "source": [
    "### Saving Model"
   ]
  },
  {
   "cell_type": "code",
   "execution_count": null,
   "metadata": {},
   "outputs": [],
   "source": [
    "#save model\n",
    "model_json = model.to_json()\n",
    "open('cifar10_architecture.json', 'w').write(model_json)\n",
    "model.save_weights('cifar10_weights.h5', overwrite=True)"
   ]
  },
  {
   "cell_type": "markdown",
   "metadata": {},
   "source": [
    "## <font color='brown'> Prediciting with model</font> "
   ]
  },
  {
   "cell_type": "markdown",
   "metadata": {},
   "source": [
    "**Note:** Since we saved the model and the weights, we do not need to train every\n",
    "time"
   ]
  },
  {
   "cell_type": "code",
   "execution_count": null,
   "metadata": {},
   "outputs": [],
   "source": [
    "import scipy.misc\n",
    "from keras.models import model_from_json\n",
    "from keras.optimizers import SGD"
   ]
  },
  {
   "cell_type": "markdown",
   "metadata": {},
   "source": [
    "### Load Model"
   ]
  },
  {
   "cell_type": "code",
   "execution_count": null,
   "metadata": {},
   "outputs": [],
   "source": [
    "#load model\n",
    "model_architecture = 'cifar10_architecture.json'\n",
    "model_weights = 'cifar10_weights.h5'\n",
    "model = model_from_json(open(model_architecture).read())\n",
    "model.load_weights(model_weights)"
   ]
  },
  {
   "cell_type": "markdown",
   "metadata": {},
   "source": [
    "### Load Images"
   ]
  },
  {
   "cell_type": "code",
   "execution_count": null,
   "metadata": {},
   "outputs": [],
   "source": [
    "#load images\n",
    "img_names = ['cat-standing.jpg', 'dog-standing.jpg']\n",
    "imgs = [np.transpose(scipy.misc.imresize(scipy.misc.imread(img_name), (32, 32)),\n",
    "                     (1, 0, 2)).astype('float32')\n",
    "        for img_name in img_names]\n",
    "imgs = np.array(imgs) / 255"
   ]
  },
  {
   "cell_type": "markdown",
   "metadata": {},
   "source": [
    "### Train and Predictions"
   ]
  },
  {
   "cell_type": "code",
   "execution_count": null,
   "metadata": {},
   "outputs": [],
   "source": [
    "# train\n",
    "optim = SGD()\n",
    "model.compile(loss='categorical_crossentropy', optimizer=optim, metrics=['accuracy'])\n",
    "\n",
    "# Predictions\n",
    "predictions = model.predict_classes(imgs)\n",
    "print(predictions)"
   ]
  }
 ],
 "metadata": {
  "kernelspec": {
   "display_name": "Python 3",
   "language": "python",
   "name": "python3"
  },
  "language_info": {
   "codemirror_mode": {
    "name": "ipython",
    "version": 3
   },
   "file_extension": ".py",
   "mimetype": "text/x-python",
   "name": "python",
   "nbconvert_exporter": "python",
   "pygments_lexer": "ipython3",
   "version": "3.6.8"
  }
 },
 "nbformat": 4,
 "nbformat_minor": 2
}

{
 "cells": [
  {
   "cell_type": "code",
   "execution_count": 1,
   "metadata": {},
   "outputs": [],
   "source": [
    "import torch"
   ]
  },
  {
   "cell_type": "markdown",
   "metadata": {},
   "source": [
    "# Torch Tensors"
   ]
  },
  {
   "cell_type": "code",
   "execution_count": 5,
   "metadata": {},
   "outputs": [
    {
     "name": "stdout",
     "output_type": "stream",
     "text": [
      "tensor([2, 2, 1])\n"
     ]
    }
   ],
   "source": [
    "#This is a 1-D Tensor - > vector (or array)\n",
    "a = torch.tensor([2,2,1])\n",
    "print(a)"
   ]
  },
  {
   "cell_type": "code",
   "execution_count": 3,
   "metadata": {},
   "outputs": [
    {
     "name": "stdout",
     "output_type": "stream",
     "text": [
      "tensor([[2, 1, 4],\n",
      "        [3, 5, 4],\n",
      "        [1, 2, 0],\n",
      "        [4, 3, 2]])\n"
     ]
    }
   ],
   "source": [
    "#This is a 2-D Tensor -> matrix\n",
    "b = torch.tensor([[2,1,4],[3,5,4],[1,2,0],[4,3,2]])\n",
    "print(b)"
   ]
  },
  {
   "cell_type": "code",
   "execution_count": 10,
   "metadata": {},
   "outputs": [
    {
     "name": "stdout",
     "output_type": "stream",
     "text": [
      "Tensor \"a\" shape-> torch.Size([3]) and size->  torch.Size([3])\n",
      "Tensor \"b\" shape-> torch.Size([4, 3]) and size->  torch.Size([4, 3])\n"
     ]
    }
   ],
   "source": [
    "#The size of the tensors\n",
    "print('Tensor \"a\" shape->', a.shape,'and size-> ', a.size())  #shapes are attributes\n",
    "print('Tensor \"b\" shape->', b.shape,'and size-> ', b.size())  #size are methods because includes parenthesis\n"
   ]
  },
  {
   "cell_type": "code",
   "execution_count": 12,
   "metadata": {},
   "outputs": [
    {
     "name": "stdout",
     "output_type": "stream",
     "text": [
      "4\n"
     ]
    }
   ],
   "source": [
    "#Get the height/number of rows of b\n",
    "print(b.shape[0])"
   ]
  },
  {
   "cell_type": "code",
   "execution_count": 13,
   "metadata": {},
   "outputs": [
    {
     "name": "stdout",
     "output_type": "stream",
     "text": [
      "3\n"
     ]
    }
   ],
   "source": [
    "#Get the width/number of columns of b\n",
    "print(b.shape[1])"
   ]
  },
  {
   "cell_type": "code",
   "execution_count": 14,
   "metadata": {},
   "outputs": [],
   "source": [
    "# Define Float Tensor (torch.FloatTensor)\n",
    "c = torch.FloatTensor([[2,1,4],[3,5,4],[1,2,0],[4,3,2]])\n",
    "# or\n",
    "# c= torch.tensor([[2,2,1], dtype = torch.float)"
   ]
  },
  {
   "cell_type": "code",
   "execution_count": 15,
   "metadata": {},
   "outputs": [],
   "source": [
    "# Define Double Tensor (torch.DoubleTensor)\n",
    "d = torch.DoubleTensor([[2,1,4],[3,5,4],[1,2,0],[4,3,2]])\n",
    "# or\n",
    "# c= torch.tensor([[2,2,1], dtype = torch.double)"
   ]
  },
  {
   "cell_type": "code",
   "execution_count": 18,
   "metadata": {},
   "outputs": [
    {
     "name": "stdout",
     "output_type": "stream",
     "text": [
      "tensor([[2., 1., 4.],\n",
      "        [3., 5., 4.],\n",
      "        [1., 2., 0.],\n",
      "        [4., 3., 2.]])\n",
      "torch.float32\n"
     ]
    }
   ],
   "source": [
    "print(c)\n",
    "print(c.dtype)"
   ]
  },
  {
   "cell_type": "code",
   "execution_count": 19,
   "metadata": {},
   "outputs": [
    {
     "name": "stdout",
     "output_type": "stream",
     "text": [
      "tensor([[2., 1., 4.],\n",
      "        [3., 5., 4.],\n",
      "        [1., 2., 0.],\n",
      "        [4., 3., 2.]], dtype=torch.float64)\n",
      "torch.float64\n"
     ]
    }
   ],
   "source": [
    "print(d)\n",
    "print(d.dtype)"
   ]
  },
  {
   "cell_type": "code",
   "execution_count": 20,
   "metadata": {},
   "outputs": [
    {
     "name": "stdout",
     "output_type": "stream",
     "text": [
      "tensor(2.5833)\n"
     ]
    }
   ],
   "source": [
    "print(c.mean())"
   ]
  },
  {
   "cell_type": "code",
   "execution_count": 21,
   "metadata": {},
   "outputs": [
    {
     "name": "stdout",
     "output_type": "stream",
     "text": [
      "tensor(2.5833, dtype=torch.float64)\n"
     ]
    }
   ],
   "source": [
    "print(d.mean())"
   ]
  },
  {
   "cell_type": "code",
   "execution_count": 22,
   "metadata": {},
   "outputs": [
    {
     "name": "stdout",
     "output_type": "stream",
     "text": [
      "tensor(1.5050)\n"
     ]
    }
   ],
   "source": [
    "print(c.std())"
   ]
  },
  {
   "cell_type": "code",
   "execution_count": 23,
   "metadata": {},
   "outputs": [
    {
     "name": "stdout",
     "output_type": "stream",
     "text": [
      "tensor(1.5050, dtype=torch.float64)\n"
     ]
    }
   ],
   "source": [
    "print(d.std())"
   ]
  },
  {
   "cell_type": "markdown",
   "metadata": {},
   "source": [
    "## Reshape a Tensor\n",
    "Important concepts to learn for implement your network\n",
    "\n",
    "The metdod to reshape a ensor is \"view(dim1,dim2)\".\n",
    "\n",
    "When the dimension is a negative number means that python have freedom to choose that dimension. As instance\n",
    "\n",
    "        b.view(-1,4)\n",
    "   \n",
    "means that, we want four columns and python decides how many rows that new reshaped tensor will have.\n"
   ]
  },
  {
   "cell_type": "code",
   "execution_count": 29,
   "metadata": {},
   "outputs": [
    {
     "name": "stdout",
     "output_type": "stream",
     "text": [
      "view(-1,1)\n",
      "tensor([[2],\n",
      "        [1],\n",
      "        [4],\n",
      "        [3],\n",
      "        [5],\n",
      "        [4],\n",
      "        [1],\n",
      "        [2],\n",
      "        [0],\n",
      "        [4],\n",
      "        [3],\n",
      "        [2]])\n",
      "\n",
      "view(12)\n",
      "tensor([2, 1, 4, 3, 5, 4, 1, 2, 0, 4, 3, 2])\n",
      "\n",
      "view(-1,4)\n",
      "tensor([[2, 1, 4, 3],\n",
      "        [5, 4, 1, 2],\n",
      "        [0, 4, 3, 2]])\n",
      "\n",
      "view(3,4)\n",
      "tensor([[2, 1, 4, 3],\n",
      "        [5, 4, 1, 2],\n",
      "        [0, 4, 3, 2]])\n",
      "\n",
      "view(1,-1)\n",
      "tensor([[2, 1, 4, 3, 5, 4, 1, 2, 0, 4, 3, 2]])\n",
      "\n",
      "tensor([[2],\n",
      "        [1],\n",
      "        [4],\n",
      "        [3],\n",
      "        [5],\n",
      "        [4],\n",
      "        [1],\n",
      "        [2],\n",
      "        [0],\n",
      "        [4],\n",
      "        [3],\n",
      "        [2]])\n",
      "torch.Size([12, 1])\n"
     ]
    }
   ],
   "source": [
    "# Reshape b\n",
    "# Note. If one of the dimensions is -1, its size can be inferred\n",
    "print('view(-1,1)')\n",
    "print(b.view(-1,1))  # b tensor will have one columun and python decides the number of rows\n",
    "print()\n",
    "print('view(12)')\n",
    "print(b.view(12))    # b tensor will have 12 columns\n",
    "print()\n",
    "print('view(-1,4)')\n",
    "print(b.view(-1,4))    # b tensor will have three rows and four columns\n",
    "print()\n",
    "print('view(3,4)')\n",
    "print(b.view(3,4))    # b tensor will have three rows and four columns\n",
    "print()\n",
    "print('view(1,-1)')\n",
    "print(b.view(1,-1))    # b tensor will have one row and twelve columns\n",
    "print()\n",
    "b = b.view(-1,1)\n",
    "print(b)\n",
    "print(b.shape)"
   ]
  },
  {
   "cell_type": "code",
   "execution_count": 34,
   "metadata": {},
   "outputs": [
    {
     "name": "stdout",
     "output_type": "stream",
     "text": [
      "\n",
      "\n",
      "First print, \n",
      "\n",
      "tensor([[[ 1.0185, -0.8115, -0.6726,  1.3914],\n",
      "         [-0.2890,  0.9405,  1.3885,  1.7535],\n",
      "         [ 1.2178,  1.3709,  0.4451, -0.8803]],\n",
      "\n",
      "        [[-0.1493,  0.0431, -1.2281, -1.6843],\n",
      "         [ 1.1288,  0.1341, -1.0882,  1.6628],\n",
      "         [ 0.2127,  0.9258,  0.1764, -0.0466]]])\n",
      "Second print, \n",
      "\n",
      "tensor([[ 1.0185, -0.8115, -0.6726,  1.3914, -0.2890,  0.9405,  1.3885,  1.7535,\n",
      "          1.2178,  1.3709,  0.4451, -0.8803],\n",
      "        [-0.1493,  0.0431, -1.2281, -1.6843,  1.1288,  0.1341, -1.0882,  1.6628,\n",
      "          0.2127,  0.9258,  0.1764, -0.0466]])\n",
      "Third print, \n",
      "\n",
      "tensor([[ 1.0185, -0.8115, -0.6726,  1.3914, -0.2890,  0.9405,  1.3885,  1.7535,\n",
      "          1.2178,  1.3709,  0.4451, -0.8803],\n",
      "        [-0.1493,  0.0431, -1.2281, -1.6843,  1.1288,  0.1341, -1.0882,  1.6628,\n",
      "          0.2127,  0.9258,  0.1764, -0.0466]])\n"
     ]
    }
   ],
   "source": [
    "# We can even reshape 3D tensors\n",
    "print('\\n')\n",
    "#Create a 3D Tensor with 2 channels, 3 rows, and 4 columns (channels,rows, columns)\n",
    "three_dim = torch.randn(2,3,4)\n",
    "print('First print, \\n')\n",
    "print(three_dim)\n",
    "print('Second print, \\n')\n",
    "print(three_dim.view(2,12)) # Reshape to 2 rows and 12 columns\n",
    "print('Third print which is the same thing as the second print, \\n')\n",
    "print(three_dim.view(2,-1))"
   ]
  },
  {
   "cell_type": "code",
   "execution_count": 35,
   "metadata": {},
   "outputs": [
    {
     "name": "stdout",
     "output_type": "stream",
     "text": [
      "tensor([[0.2226, 0.2163, 0.1279, 0.2051],\n",
      "        [0.8695, 0.4348, 0.8976, 0.7746],\n",
      "        [0.2485, 0.8403, 0.3879, 0.1332],\n",
      "        [0.7876, 0.9586, 0.2823, 0.9712]])\n"
     ]
    }
   ],
   "source": [
    "#Create a matrix with random numbers between 0 and 1\n",
    "r = torch.rand(4,4)\n",
    "print(r)"
   ]
  },
  {
   "cell_type": "code",
   "execution_count": 36,
   "metadata": {},
   "outputs": [
    {
     "name": "stdout",
     "output_type": "stream",
     "text": [
      "tensor([[ 0.8193, -0.6884,  0.2118,  1.5017],\n",
      "        [-0.3663,  0.2026,  0.0801,  0.0809],\n",
      "        [ 1.6649, -0.8192, -1.1057,  1.2955],\n",
      "        [ 0.3373,  0.2162, -0.0506,  1.3272]])\n",
      "torch.float32\n"
     ]
    }
   ],
   "source": [
    "#Create a matrix with random numbers taken from a normal distribution with mean 0 and variance 1\n",
    "r2 = torch.randn(4,4)\n",
    "print(r2)\n",
    "print(r2.dtype)"
   ]
  },
  {
   "cell_type": "code",
   "execution_count": 37,
   "metadata": {},
   "outputs": [
    {
     "name": "stdout",
     "output_type": "stream",
     "text": [
      "tensor([6, 9, 9, 8, 8])\n",
      "torch.int64\n"
     ]
    }
   ],
   "source": [
    "#Create an array of 5 random integers from values between 6 and 9 (exclusive of 10)\n",
    "in_array = torch.randint(6,10,(5,))\n",
    "print(in_array)\n",
    "print(in_array.dtype)"
   ]
  },
  {
   "cell_type": "code",
   "execution_count": 48,
   "metadata": {},
   "outputs": [
    {
     "name": "stdout",
     "output_type": "stream",
     "text": [
      "tensor([[9, 6, 8],\n",
      "        [9, 7, 7],\n",
      "        [6, 6, 8]])\n"
     ]
    }
   ],
   "source": [
    "#Cretae an 2D array (or matrix) of size 3x3 filled with random integers from values between 6 nd 9 (exclusive 10)\n",
    "in_array2 = torch.randint(6,10,(3,3))                        # by defualt the number are integer\n",
    "#in_array2 = torch.randint(6,10,(3,3), dtype=torch.float)     # but we can change the precision of the numbers\n",
    "print(in_array2)"
   ]
  },
  {
   "cell_type": "code",
   "execution_count": 49,
   "metadata": {},
   "outputs": [
    {
     "name": "stdout",
     "output_type": "stream",
     "text": [
      "5\n",
      "9\n"
     ]
    }
   ],
   "source": [
    "#Get the number of elements in in_array\n",
    "print(torch.numel(in_array))\n",
    "#Get the number of elements in in-array\n",
    "print(torch.numel(in_array2))"
   ]
  },
  {
   "cell_type": "code",
   "execution_count": 51,
   "metadata": {},
   "outputs": [
    {
     "name": "stdout",
     "output_type": "stream",
     "text": [
      "tensor([[0, 0, 0],\n",
      "        [0, 0, 0],\n",
      "        [0, 0, 0]])\n",
      "tensor([[1., 1., 1.],\n",
      "        [1., 1., 1.],\n",
      "        [1., 1., 1.]])\n",
      "torch.float32\n"
     ]
    }
   ],
   "source": [
    "#Construct a 3x3 matrix of zeros and of dtype long:\n",
    "z = torch.zeros(3, 3, dtype=torch.long)\n",
    "print(z)\n",
    "#Cosntruct a 3x3 matrix of ones\n",
    "o = torch.ones(3,3)\n",
    "print(o)\n",
    "print(o.dtype)"
   ]
  },
  {
   "cell_type": "code",
   "execution_count": 52,
   "metadata": {},
   "outputs": [
    {
     "name": "stdout",
     "output_type": "stream",
     "text": [
      "tensor([[ 0.8193, -0.6884,  0.2118,  1.5017],\n",
      "        [-0.3663,  0.2026,  0.0801,  0.0809],\n",
      "        [ 1.6649, -0.8192, -1.1057,  1.2955],\n",
      "        [ 0.3373,  0.2162, -0.0506,  1.3272]])\n",
      "\n",
      "tensor([[-2.0825,  1.4318,  0.9190,  0.9715],\n",
      "        [-0.6123,  1.1993,  0.8547, -0.3190],\n",
      "        [-0.8932,  2.1858, -0.4429, -0.3790],\n",
      "        [ 1.8304,  0.6411, -0.9101, -0.2609]], dtype=torch.float64)\n"
     ]
    }
   ],
   "source": [
    "#Convert the datatype of the tensor\n",
    "print(r2)\n",
    "print()\n",
    "r2_like = torch.randn_like(r2, dtype=torch.double) #generates a new tensor with the same size of r2\n",
    "print(r2_like)"
   ]
  },
  {
   "cell_type": "code",
   "execution_count": 54,
   "metadata": {},
   "outputs": [
    {
     "name": "stdout",
     "output_type": "stream",
     "text": [
      "tensor([[ 1.0420, -0.4721,  0.3397,  1.7068],\n",
      "        [ 0.5032,  0.6374,  0.9778,  0.8555],\n",
      "        [ 1.9134,  0.0210, -0.7178,  1.4287],\n",
      "        [ 1.1249,  1.1748,  0.2317,  2.2985]])\n"
     ]
    }
   ],
   "source": [
    "#Add two tensors, make sure they are the same size and data type\n",
    "add_result = torch.add(r,r2)\n",
    "print(add_result)"
   ]
  },
  {
   "cell_type": "code",
   "execution_count": 55,
   "metadata": {},
   "outputs": [
    {
     "name": "stdout",
     "output_type": "stream",
     "text": [
      "tensor([[ 1.0420, -0.4721,  0.3397,  1.7068],\n",
      "        [ 0.5032,  0.6374,  0.9778,  0.8555],\n",
      "        [ 1.9134,  0.0210, -0.7178,  1.4287],\n",
      "        [ 1.1249,  1.1748,  0.2317,  2.2985]])\n"
     ]
    }
   ],
   "source": [
    "# In-place addition (change the value of r2)\n",
    "# The result of the addition is attribbuted to the firt variable\n",
    "r2.add_(r)\n",
    "print(r2) # the r2 is changed by the result of the addition betwwen r2 and r"
   ]
  },
  {
   "cell_type": "markdown",
   "metadata": {},
   "source": [
    "## Matrix slicing"
   ]
  },
  {
   "cell_type": "code",
   "execution_count": 58,
   "metadata": {},
   "outputs": [
    {
     "name": "stdout",
     "output_type": "stream",
     "text": [
      "tensor([-0.4721,  0.6374,  0.0210,  1.1748])\n",
      "tensor([[ 1.0420, -0.4721],\n",
      "        [ 0.5032,  0.6374],\n",
      "        [ 1.9134,  0.0210],\n",
      "        [ 1.1249,  1.1748]])\n",
      "tensor([[ 1.0420, -0.4721,  0.3397,  1.7068],\n",
      "        [ 0.5032,  0.6374,  0.9778,  0.8555],\n",
      "        [ 1.9134,  0.0210, -0.7178,  1.4287]])\n",
      "tensor(1.4287)\n",
      "1.428661823272705\n",
      "tensor([ 1.9134,  0.0210, -0.7178,  1.4287])\n"
     ]
    }
   ],
   "source": [
    "print(r2[:,1])                  # select the first column: remember: the index starts from zero\n",
    "print(r2[:,:2])                 # select the first two columns\n",
    "print(r2[:3,:])                 # select the first three rows\n",
    "num_ten = r2[2,3]               # select the value in the position (2,3)\n",
    "print(num_ten)\n",
    "print(num_ten.item())\n",
    "print(r2[2,:])                  # select the third row"
   ]
  },
  {
   "cell_type": "code",
   "execution_count": null,
   "metadata": {},
   "outputs": [],
   "source": []
  },
  {
   "cell_type": "code",
   "execution_count": null,
   "metadata": {},
   "outputs": [],
   "source": []
  },
  {
   "cell_type": "code",
   "execution_count": null,
   "metadata": {},
   "outputs": [],
   "source": []
  },
  {
   "cell_type": "code",
   "execution_count": null,
   "metadata": {},
   "outputs": [],
   "source": []
  },
  {
   "cell_type": "code",
   "execution_count": null,
   "metadata": {},
   "outputs": [],
   "source": []
  },
  {
   "cell_type": "code",
   "execution_count": null,
   "metadata": {},
   "outputs": [],
   "source": []
  },
  {
   "cell_type": "code",
   "execution_count": null,
   "metadata": {},
   "outputs": [],
   "source": []
  },
  {
   "cell_type": "code",
   "execution_count": null,
   "metadata": {},
   "outputs": [],
   "source": []
  },
  {
   "cell_type": "code",
   "execution_count": null,
   "metadata": {},
   "outputs": [],
   "source": []
  }
 ],
 "metadata": {
  "kernelspec": {
   "display_name": "Python 3",
   "language": "python",
   "name": "python3"
  },
  "language_info": {
   "codemirror_mode": {
    "name": "ipython",
    "version": 3
   },
   "file_extension": ".py",
   "mimetype": "text/x-python",
   "name": "python",
   "nbconvert_exporter": "python",
   "pygments_lexer": "ipython3",
   "version": "3.6.7"
  }
 },
 "nbformat": 4,
 "nbformat_minor": 2
}

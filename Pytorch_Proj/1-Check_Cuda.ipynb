{
 "cells": [
  {
   "cell_type": "markdown",
   "metadata": {},
   "source": [
    "To install pytorch and dependencies follow the instructions that are in:\n",
    "    \n",
    "    https://github.com/sotte/pytorch_tutorial\n",
    "    \n",
    "Note: In my case I have a NVIDIA GeForce 940MX. To see the version of the cuda toolkit installed in my computer (it was not installed by me) I did a right click above a clean zone of my desktop and selected **NVIDIA Control Panel**. To see your CUDA version go to Help->System information...-> Componentes and you will see the cuda version in the Product Name column for the row of NVCUDA.DLL file. After checked your CUDA version change it in the file environment_gpu.yml that you found in the link above if you need.\n",
    "\n",
    "![title](cuda_version.jpg)"
   ]
  },
  {
   "cell_type": "code",
   "execution_count": 1,
   "metadata": {},
   "outputs": [],
   "source": [
    "import torch"
   ]
  },
  {
   "cell_type": "code",
   "execution_count": 2,
   "metadata": {},
   "outputs": [],
   "source": [
    "import torchvision"
   ]
  },
  {
   "cell_type": "code",
   "execution_count": 4,
   "metadata": {},
   "outputs": [
    {
     "name": "stdout",
     "output_type": "stream",
     "text": [
      "True\n"
     ]
    }
   ],
   "source": [
    "print(torch.cuda.is_available())"
   ]
  }
 ],
 "metadata": {
  "kernelspec": {
   "display_name": "Python 3",
   "language": "python",
   "name": "python3"
  },
  "language_info": {
   "codemirror_mode": {
    "name": "ipython",
    "version": 3
   },
   "file_extension": ".py",
   "mimetype": "text/x-python",
   "name": "python",
   "nbconvert_exporter": "python",
   "pygments_lexer": "ipython3",
   "version": "3.6.7"
  }
 },
 "nbformat": 4,
 "nbformat_minor": 2
}

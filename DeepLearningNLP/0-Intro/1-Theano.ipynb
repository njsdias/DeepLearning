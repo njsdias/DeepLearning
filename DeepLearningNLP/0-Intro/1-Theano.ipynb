{
 "cells": [
  {
   "cell_type": "code",
   "execution_count": 1,
   "metadata": {},
   "outputs": [],
   "source": [
    "import theano\n",
    "import theano.tensor as T\n",
    "import numpy\n",
    "from theano import function"
   ]
  },
  {
   "cell_type": "code",
   "execution_count": 2,
   "metadata": {},
   "outputs": [
    {
     "name": "stdout",
     "output_type": "stream",
     "text": [
      "<class 'theano.tensor.var.TensorVariable'>\n",
      "TensorType(float64, scalar)\n",
      "TensorType(float64, scalar)\n"
     ]
    }
   ],
   "source": [
    "# Variables 'x' and 'y' are defined\n",
    "x = T.dscalar('x')# dscalar : Theano datatype\n",
    "y = T.dscalar('y')\n",
    "\n",
    "# 'x' and 'y' are instances of TensorVariable, and are of dscalar theano type\n",
    "print(type(x))\n",
    "print(x.type)\n",
    "\n",
    "print(T.dscalar)"
   ]
  },
  {
   "cell_type": "code",
   "execution_count": 3,
   "metadata": {},
   "outputs": [
    {
     "name": "stdout",
     "output_type": "stream",
     "text": [
      "(x + y)\n"
     ]
    }
   ],
   "source": [
    "# 'z' represents the sum of 'x' and 'y' variables. \n",
    "# Theano’s pp function, pretty-print out, is used to display the computation of the variable 'z'\n",
    "z = x + y\n",
    "from theano import pp\n",
    "print(pp(z))"
   ]
  },
  {
   "cell_type": "code",
   "execution_count": 4,
   "metadata": {},
   "outputs": [
    {
     "data": {
      "text/plain": [
       "array(16.)"
      ]
     },
     "execution_count": 4,
     "metadata": {},
     "output_type": "execute_result"
    }
   ],
   "source": [
    "# 'f' is a numpy.ndarray of zero dimensions, which takes input as the first argument, and output as the second argument\n",
    "# 'f' is being compiled in C code\n",
    "f = function([x, y], z)\n",
    "#    The above created function could be used in the following manner to perform the addition operation : \n",
    "f(6, 10)"
   ]
  },
  {
   "cell_type": "code",
   "execution_count": 5,
   "metadata": {},
   "outputs": [
    {
     "data": {
      "text/plain": [
       "True"
      ]
     },
     "execution_count": 5,
     "metadata": {},
     "output_type": "execute_result"
    }
   ],
   "source": [
    "numpy.allclose(f(10.3, 5.4), 15.7)"
   ]
  }
 ],
 "metadata": {
  "kernelspec": {
   "display_name": "Python 3",
   "language": "python",
   "name": "python3"
  },
  "language_info": {
   "codemirror_mode": {
    "name": "ipython",
    "version": 3
   },
   "file_extension": ".py",
   "mimetype": "text/x-python",
   "name": "python",
   "nbconvert_exporter": "python",
   "pygments_lexer": "ipython3",
   "version": "3.6.8"
  }
 },
 "nbformat": 4,
 "nbformat_minor": 2
}

{
 "cells": [
  {
   "cell_type": "code",
   "execution_count": 1,
   "metadata": {},
   "outputs": [],
   "source": [
    "import tensorflow as tf"
   ]
  },
  {
   "cell_type": "code",
   "execution_count": 2,
   "metadata": {},
   "outputs": [
    {
     "data": {
      "text/plain": [
       "b'Hello, Tensors!'"
      ]
     },
     "execution_count": 2,
     "metadata": {},
     "output_type": "execute_result"
    }
   ],
   "source": [
    "hello = tf.constant('Hello, Tensors!')\n",
    "\n",
    "sess = tf.Session()                            # initialize session\n",
    "sess.run(hello)"
   ]
  },
  {
   "cell_type": "code",
   "execution_count": 3,
   "metadata": {},
   "outputs": [
    {
     "data": {
      "text/plain": [
       "42"
      ]
     },
     "execution_count": 3,
     "metadata": {},
     "output_type": "execute_result"
    }
   ],
   "source": [
    "# Mathematical computation\n",
    "a = tf.constant(10)\n",
    "b = tf.constant(32)\n",
    "sess.run(a+b)"
   ]
  },
  {
   "cell_type": "markdown",
   "metadata": {},
   "source": [
    "**Load Libraries**"
   ]
  },
  {
   "cell_type": "code",
   "execution_count": 4,
   "metadata": {},
   "outputs": [],
   "source": [
    "import tensorflow as tf\n",
    "import numpy as np"
   ]
  },
  {
   "cell_type": "markdown",
   "metadata": {},
   "source": [
    "**Defining Calculus**"
   ]
  },
  {
   "cell_type": "code",
   "execution_count": 5,
   "metadata": {},
   "outputs": [],
   "source": [
    "mat_1 = 10*np.random.random_sample((3, 4))                                   # Creating NumPy arrays\n",
    "mat_2 = 10*np.random.random_sample((4, 6))\n",
    "\n",
    "# Creating a pair of constant ops, \n",
    "# and including the above made matrices\n",
    "tf_mat_1 = tf.constant(mat_1)\n",
    "tf_mat_2 = tf.constant(mat_2)\n",
    "\n",
    "# Multiplying TensorFlow matrices with matrix multiplication operation\n",
    "tf_mat_prod = tf.matmul(tf_mat_1 , tf_mat_2)"
   ]
  },
  {
   "cell_type": "code",
   "execution_count": 6,
   "metadata": {},
   "outputs": [],
   "source": [
    "sess = tf.Session()                                                          # Launching a session"
   ]
  },
  {
   "cell_type": "markdown",
   "metadata": {},
   "source": [
    "**Run the Calculus and store in a variable**"
   ]
  },
  {
   "cell_type": "code",
   "execution_count": 8,
   "metadata": {},
   "outputs": [
    {
     "name": "stdout",
     "output_type": "stream",
     "text": [
      "[[70.18408892 94.04506057 38.89812924 31.90287955 75.22901125 85.37949284]\n",
      " [65.25283199 87.48535316 27.03687762 44.01269226 93.51769392 53.5104151 ]\n",
      " [50.54888343 59.45172267 32.1173615  24.39834249 53.93417358 37.27355096]] \n",
      "\n",
      "Addition of constants 10 and 20 is 52 \n",
      "Subtraction of constants 10 and 20 is -12 \n"
     ]
    }
   ],
   "source": [
    "# run() executes required ops and performs \n",
    "# the request to store output in ‘mult_matrix’ variable\n",
    "mult_matrix = sess.run(tf_mat_prod)\n",
    "print(mult_matrix,'\\n')\n",
    "\n",
    "# Performing constant operations with the addition and subtraction of two constants\n",
    "a = tf.constant(10)\n",
    "a = tf.constant(20)\n",
    "\n",
    "print(\"Addition of constants 10 and 20 is %i \" % sess.run(a+b) )\n",
    "print(\"Subtraction of constants 10 and 20 is %i \" % sess.run(a-b))"
   ]
  },
  {
   "cell_type": "code",
   "execution_count": null,
   "metadata": {},
   "outputs": [],
   "source": [
    "sess.close()                                                                # Closing the session"
   ]
  }
 ],
 "metadata": {
  "kernelspec": {
   "display_name": "Python 3",
   "language": "python",
   "name": "python3"
  },
  "language_info": {
   "codemirror_mode": {
    "name": "ipython",
    "version": 3
   },
   "file_extension": ".py",
   "mimetype": "text/x-python",
   "name": "python",
   "nbconvert_exporter": "python",
   "pygments_lexer": "ipython3",
   "version": "3.6.8"
  }
 },
 "nbformat": 4,
 "nbformat_minor": 2
}

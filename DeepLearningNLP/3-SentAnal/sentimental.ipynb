{
 "cells": [
  {
   "cell_type": "markdown",
   "metadata": {},
   "source": [
    "## Sentiment Classification\n",
    "\n",
    "We have made use of the Internet Movie Database, popularly known as\n",
    "IMDb (www.imdb.com), to select the dataset for the sentiment classification\n",
    "problem. It offers a great number of datasets, both image and text, which\n",
    "are useful for multiple research activities in deep learning and data\n",
    "analysis.\n",
    "\n",
    "For sentiment classification, we have made use of a set of 25,000\n",
    "movie reviews, which have their positive and negative label attached.\n",
    "The publicly available reviews have been already preprocessed and are\n",
    "encoded as a sequence of word indexes, i.e., integers. The words are ordered on the basis of their overall frequency in the dataset, i.e., the token\n",
    "or word with the second-highest frequency has been indexed as 2, and so\n",
    "on. Attaching such an index to the words will help in shortlisting the words\n",
    "on the basis of their frequency, such as to pick the top 2,000 most common\n",
    "words or remove the top-10 most common words"
   ]
  },
  {
   "cell_type": "code",
   "execution_count": 8,
   "metadata": {},
   "outputs": [
    {
     "name": "stdout",
     "output_type": "stream",
     "text": [
      "Collecting tf_nightly\n",
      "  Using cached https://files.pythonhosted.org/packages/5e/c8/2c38f2e1d9a2a40d368e05f870e57c5e104d4a2a16ee45bd53ac56fc8e30/tf_nightly-1.14.1.dev20190515-cp36-cp36m-win_amd64.whl\n",
      "Requirement already satisfied: protobuf>=3.6.1 in c:\\users\\ctw00071\\appdata\\local\\continuum\\miniconda3\\envs\\neuralnets\\lib\\site-packages (from tf_nightly) (3.7.1)\n",
      "Requirement already satisfied: absl-py>=0.7.0 in c:\\users\\ctw00071\\appdata\\local\\continuum\\miniconda3\\envs\\neuralnets\\lib\\site-packages (from tf_nightly) (0.7.1)\n",
      "Requirement already satisfied: numpy<2.0,>=1.14.5 in c:\\users\\ctw00071\\appdata\\local\\continuum\\miniconda3\\envs\\neuralnets\\lib\\site-packages (from tf_nightly) (1.16.3)\n",
      "Requirement already satisfied: wheel>=0.26 in c:\\users\\ctw00071\\appdata\\local\\continuum\\miniconda3\\envs\\neuralnets\\lib\\site-packages (from tf_nightly) (0.33.2)\n",
      "Requirement already satisfied: termcolor>=1.1.0 in c:\\users\\ctw00071\\appdata\\local\\continuum\\miniconda3\\envs\\neuralnets\\lib\\site-packages (from tf_nightly) (1.1.0)\n",
      "Requirement already satisfied: astor>=0.6.0 in c:\\users\\ctw00071\\appdata\\local\\continuum\\miniconda3\\envs\\neuralnets\\lib\\site-packages (from tf_nightly) (0.7.1)\n",
      "Requirement already satisfied: keras-applications>=1.0.6 in c:\\users\\ctw00071\\appdata\\local\\continuum\\miniconda3\\envs\\neuralnets\\lib\\site-packages (from tf_nightly) (1.0.7)\n",
      "Requirement already satisfied: gast>=0.2.0 in c:\\users\\ctw00071\\appdata\\local\\continuum\\miniconda3\\envs\\neuralnets\\lib\\site-packages (from tf_nightly) (0.2.2)\n",
      "Requirement already satisfied: grpcio>=1.8.6 in c:\\users\\ctw00071\\appdata\\local\\continuum\\miniconda3\\envs\\neuralnets\\lib\\site-packages (from tf_nightly) (1.20.1)\n",
      "Requirement already satisfied: six>=1.10.0 in c:\\users\\ctw00071\\appdata\\local\\continuum\\miniconda3\\envs\\neuralnets\\lib\\site-packages (from tf_nightly) (1.12.0)\n",
      "Requirement already satisfied: keras-preprocessing>=1.0.5 in c:\\users\\ctw00071\\appdata\\local\\continuum\\miniconda3\\envs\\neuralnets\\lib\\site-packages (from tf_nightly) (1.0.9)\n",
      "Collecting wrapt>=1.11.1 (from tf_nightly)\n",
      "Collecting tb-nightly<1.15.0a0,>=1.14.0a0 (from tf_nightly)\n",
      "  Using cached https://files.pythonhosted.org/packages/ab/9f/ef1a3fea8d6426508ff4849d8f85ce4a86ebae5d1f03c65705e950cf9e0c/tb_nightly-1.14.0a20190515-py3-none-any.whl\n",
      "Collecting google-pasta>=0.1.6 (from tf_nightly)\n",
      "  Using cached https://files.pythonhosted.org/packages/f9/68/a14620bfb042691f532dcde8576ff82ee82e4c003cdc0a3dbee5f289cee6/google_pasta-0.1.6-py3-none-any.whl\n",
      "Collecting tf-estimator-nightly (from tf_nightly)\n",
      "  Using cached https://files.pythonhosted.org/packages/35/3b/aadf6561d786f073509982cf842b14f806198918b610ca049dbd374cd4b9/tf_estimator_nightly-1.14.0.dev2019051501-py2.py3-none-any.whl\n",
      "Requirement already satisfied: setuptools in c:\\users\\ctw00071\\appdata\\local\\continuum\\miniconda3\\envs\\neuralnets\\lib\\site-packages (from protobuf>=3.6.1->tf_nightly) (41.0.1)\n",
      "Requirement already satisfied: h5py in c:\\users\\ctw00071\\appdata\\local\\continuum\\miniconda3\\envs\\neuralnets\\lib\\site-packages (from keras-applications>=1.0.6->tf_nightly) (2.9.0)\n",
      "Requirement already satisfied: markdown>=2.6.8 in c:\\users\\ctw00071\\appdata\\local\\continuum\\miniconda3\\envs\\neuralnets\\lib\\site-packages (from tb-nightly<1.15.0a0,>=1.14.0a0->tf_nightly) (3.1)\n",
      "Requirement already satisfied: werkzeug>=0.11.15 in c:\\users\\ctw00071\\appdata\\local\\continuum\\miniconda3\\envs\\neuralnets\\lib\\site-packages (from tb-nightly<1.15.0a0,>=1.14.0a0->tf_nightly) (0.15.4)\n",
      "Installing collected packages: wrapt, tb-nightly, google-pasta, tf-estimator-nightly, tf-nightly\n",
      "Successfully installed google-pasta-0.1.6 tb-nightly-1.14.0a20190515 tf-estimator-nightly-1.14.0.dev2019051501 tf-nightly-1.14.1.dev20190515 wrapt-1.11.1\n"
     ]
    }
   ],
   "source": [
    "# keras.datasets.imdb is broken in 1.13 and 1.14, by np 1.16.3\n",
    "!pip install tf_nightly"
   ]
  },
  {
   "cell_type": "code",
   "execution_count": 28,
   "metadata": {},
   "outputs": [
    {
     "name": "stdout",
     "output_type": "stream",
     "text": [
      "1.14.1-dev20190515\n"
     ]
    }
   ],
   "source": [
    "from __future__ import absolute_import, division, print_function, unicode_literals\n",
    "\n",
    "import tensorflow as tf\n",
    "from tensorflow import keras\n",
    "from tensorflow.python.ops import rnn, rnn_cell\n",
    "\n",
    "import numpy as np\n",
    "import pandas as pd\n",
    "import matplotlib.pyplot as plt\n",
    "%matplotlib inline\n",
    "\n",
    "print(tf.__version__)"
   ]
  },
  {
   "cell_type": "code",
   "execution_count": 29,
   "metadata": {},
   "outputs": [],
   "source": [
    "from keras.datasets import imdb"
   ]
  },
  {
   "cell_type": "markdown",
   "metadata": {},
   "source": [
    "**Fix the error: allow_pickle=True:**\n",
    "\n",
    "Downgraded numpy version from 1.16.3 to 1.16.1 which default value is still allow_pickle=True. \n",
    "Just remove current version then install the 1.16.1 version via:\n",
    "\n",
    "pip uninstall numpy\n",
    "pip install --upgrade numpy==1.16.1"
   ]
  },
  {
   "cell_type": "markdown",
   "metadata": {},
   "source": [
    "**Download the IMDB dataset**\n",
    "The IMDB dataset comes packaged with TensorFlow. It has already been preprocessed such that the reviews (sequences of words) have been converted to sequences of integers, where each integer represents a specific word in a dictionary.\n",
    "\n",
    "The following code downloads the IMDB dataset to your machine (or uses a cached copy if you've already downloaded it):"
   ]
  },
  {
   "cell_type": "code",
   "execution_count": 30,
   "metadata": {},
   "outputs": [],
   "source": [
    "(X_train,y_train), (X_test,y_test) = imdb.load_data(num_words=1000, index_from=3)"
   ]
  },
  {
   "cell_type": "markdown",
   "metadata": {},
   "source": [
    "**Convert the integers back to words**\n",
    "\n",
    "It may be useful to know how to convert integers back to text. \n",
    "Here, we'll create a helper function to query a dictionary object that contains the integer to string mapping:"
   ]
  },
  {
   "cell_type": "code",
   "execution_count": 31,
   "metadata": {},
   "outputs": [],
   "source": [
    "# Getting the word index used for encoding the sequences\n",
    "vocab_to_int = imdb.get_word_index()\n",
    "\n",
    "# The first indices are reserved\n",
    "vocab_to_int = {k:(v+3) for k,v in vocab_to_int.items()}  # Starting from word index offset onward\n",
    "# Creating indexes for the special characters : Padding, Start Token, Unknown words\n",
    "vocab_to_int[\"<PAD>\"] = 0\n",
    "vocab_to_int[\"<GO>\"] = 1\n",
    "vocab_to_int[\"<UNK>\"] = 2"
   ]
  },
  {
   "cell_type": "code",
   "execution_count": 32,
   "metadata": {},
   "outputs": [],
   "source": [
    "int_to_vocab = {value:key for key,value in vocab_to_int.items()}"
   ]
  },
  {
   "cell_type": "code",
   "execution_count": 33,
   "metadata": {},
   "outputs": [
    {
     "name": "stdout",
     "output_type": "stream",
     "text": [
      "<GO> this film was just brilliant casting <UNK> <UNK> story direction <UNK> really <UNK> the part they played and you could just imagine being there robert <UNK> is an amazing actor and now the same being director <UNK> father came from the same <UNK> <UNK> as myself so i loved the fact there was a real <UNK> with this film the <UNK> <UNK> throughout the film were great it was just brilliant so much that i <UNK> the film as soon as it was released for <UNK> and would recommend it to everyone to watch and the <UNK> <UNK> was amazing really <UNK> at the end it was so sad and you know what they say if you <UNK> at a film it must have been good and this definitely was also <UNK> to the two little <UNK> that played the <UNK> of <UNK> and paul they were just brilliant children are often left out of the <UNK> <UNK> i think because the stars that play them all <UNK> up are such a big <UNK> for the whole film but these children are amazing and should be <UNK> for what they have done don't you think the whole story was so <UNK> because it was true and was <UNK> life after all that was <UNK> with us all\n"
     ]
    }
   ],
   "source": [
    "print(' '.join(int_to_vocab[id] for id in X_train[0] ))"
   ]
  },
  {
   "cell_type": "markdown",
   "metadata": {},
   "source": [
    "**Another way to do the same thing**"
   ]
  },
  {
   "cell_type": "code",
   "execution_count": 12,
   "metadata": {},
   "outputs": [],
   "source": [
    "reverse_word_index = dict([(value, key) for (key, value) in vocab_to_int.items()])\n",
    "\n",
    "def decode_review(text):\n",
    "    return ' '.join([reverse_word_index.get(i, '?') for i in text])"
   ]
  },
  {
   "cell_type": "code",
   "execution_count": 14,
   "metadata": {},
   "outputs": [
    {
     "data": {
      "text/plain": [
       "\"<GO> this film was just brilliant casting <UNK> <UNK> story direction <UNK> really <UNK> the part they played and you could just imagine being there robert <UNK> is an amazing actor and now the same being director <UNK> father came from the same <UNK> <UNK> as myself so i loved the fact there was a real <UNK> with this film the <UNK> <UNK> throughout the film were great it was just brilliant so much that i <UNK> the film as soon as it was released for <UNK> and would recommend it to everyone to watch and the <UNK> <UNK> was amazing really <UNK> at the end it was so sad and you know what they say if you <UNK> at a film it must have been good and this definitely was also <UNK> to the two little <UNK> that played the <UNK> of <UNK> and paul they were just brilliant children are often left out of the <UNK> <UNK> i think because the stars that play them all <UNK> up are such a big <UNK> for the whole film but these children are amazing and should be <UNK> for what they have done don't you think the whole story was so <UNK> because it was true and was <UNK> life after all that was <UNK> with us all\""
      ]
     },
     "execution_count": 14,
     "metadata": {},
     "output_type": "execute_result"
    }
   ],
   "source": [
    "decode_review(X_train[0])"
   ]
  },
  {
   "cell_type": "markdown",
   "metadata": {},
   "source": [
    "**Prepare the Data**"
   ]
  },
  {
   "cell_type": "code",
   "execution_count": 34,
   "metadata": {},
   "outputs": [],
   "source": [
    "# Creating Train and Test datasets from labeled movie reviews \n",
    "(X_train, y_train), (X_test, y_test) = imdb.load_data(path=\"imdb_full.pkl\",\n",
    "                                                      num_words=None,\n",
    "                                                      skip_top=0,\n",
    "                                                      maxlen=None,\n",
    "                                                      seed=113,\n",
    "                                                      start_char=1,\n",
    "                                                      oov_char=2,\n",
    "                                                      index_from=3)"
   ]
  },
  {
   "cell_type": "code",
   "execution_count": 35,
   "metadata": {},
   "outputs": [],
   "source": [
    "t = [item for sublist in X_train for item in sublist]\n",
    "vocabulary = len(set(t))+1"
   ]
  },
  {
   "cell_type": "markdown",
   "metadata": {},
   "source": [
    "**shows the distribution of the word count in reviews**"
   ]
  },
  {
   "cell_type": "code",
   "execution_count": 36,
   "metadata": {},
   "outputs": [
    {
     "data": {
      "text/plain": [
       "[<matplotlib.lines.Line2D at 0x1aac48696d8>]"
      ]
     },
     "execution_count": 36,
     "metadata": {},
     "output_type": "execute_result"
    },
    {
     "data": {
      "image/png": "[encoded data removed]",
      "text/plain": [
       "<Figure size 432x288 with 1 Axes>"
      ]
     },
     "metadata": {
      "needs_background": "light"
     },
     "output_type": "display_data"
    }
   ],
   "source": [
    "a = [len(x) for x in X_train]\n",
    "plt.plot(a)"
   ]
  },
  {
   "cell_type": "markdown",
   "metadata": {},
   "source": [
    "**Specify a maximum length for the selection of a sequence from the sentence**\n",
    "\n",
    "If the review length is lower than it, append the newly\n",
    "created sequence with padding, up to the maximum length."
   ]
  },
  {
   "cell_type": "code",
   "execution_count": 37,
   "metadata": {},
   "outputs": [],
   "source": [
    "max_length = 200 # specifying the max length of the sequence in the sentence\n",
    "x_filter = []\n",
    "y_filter = []\n",
    "\n",
    "# if the selected length is lesser than the specified max_length, 200, then appending padding (0), else only selecting\n",
    "#       desired length only from sentence\n",
    "for i in range(len(X_train)):\n",
    "    if len(X_train[i])<max_length:\n",
    "        a = len(X_train[i])\n",
    "        X_train[i] = X_train[i] + [0] * (max_length - a)\n",
    "        x_filter.append(X_train[i])\n",
    "        y_filter.append(y_train[i])\n",
    "    elif len(X_train[i])>max_length:\n",
    "        X_train[i] = X_train[i][0:max_length]"
   ]
  },
  {
   "cell_type": "markdown",
   "metadata": {},
   "source": [
    "**Model Hyperparameters**\n",
    "\n",
    "Declare the model hyperparameters with word embedding size,\n",
    "number of hidden units, learning rate, batch size, and total number of\n",
    "training iterations."
   ]
  },
  {
   "cell_type": "code",
   "execution_count": 38,
   "metadata": {},
   "outputs": [],
   "source": [
    "#declaring the hyper params\n",
    "embedding_size = 100 # word vector size for initializing the word embeddings\n",
    "n_hidden = 200\n",
    "learning_rate = 0.06\n",
    "training_iters = 100000\n",
    "batch_size = 32\n",
    "beta =0.0001"
   ]
  },
  {
   "cell_type": "markdown",
   "metadata": {},
   "source": [
    "**Additional Parameters**\n",
    "\n",
    "There are related to the current model architecture \n",
    "\n",
    "- dataset\n",
    "- max_length\n",
    "- number of classes to classify \n",
    "\n",
    "in, number of units in hidden layer of self-attention MLP, and number of rows in matrix embedding."
   ]
  },
  {
   "cell_type": "code",
   "execution_count": 39,
   "metadata": {},
   "outputs": [],
   "source": [
    "n_steps = max_length  # timestepswords\n",
    "n_classes = 2         # 0/1 : binary classification for negative and positive reviews\n",
    "da = 350              # hyper-parameter : Self-attention MLP has hidden layer with da units\n",
    "r = 30                # count of different parts to be extracted from sentence (= # rows in matrix embedding)\n",
    "display_step =10 \n",
    "hidden_units = 3000"
   ]
  },
  {
   "cell_type": "markdown",
   "metadata": {},
   "source": [
    "Transform the training dataset values and labels in the desired format\n",
    "of array post transformation and encoding, respectively."
   ]
  },
  {
   "cell_type": "code",
   "execution_count": 40,
   "metadata": {},
   "outputs": [],
   "source": [
    "y_train = np.asarray(pd.get_dummies(y_filter))\n",
    "X_train = np.asarray([np.asarray(g) for g in x_filter])"
   ]
  },
  {
   "cell_type": "markdown",
   "metadata": {},
   "source": [
    "Create an internal folder to record logs"
   ]
  },
  {
   "cell_type": "code",
   "execution_count": 41,
   "metadata": {},
   "outputs": [],
   "source": [
    "logs_path = './recent_logs/'"
   ]
  },
  {
   "cell_type": "code",
   "execution_count": null,
   "metadata": {},
   "outputs": [],
   "source": [
    "#NAME = \"lstmumich{}\".format(int(time.time()))\n",
    "#tensorboard = TensorBoard(log_dir='logs/{}'.format(NAME))"
   ]
  },
  {
   "cell_type": "markdown",
   "metadata": {},
   "source": [
    "Create a class, to yield random data in batches of given batch size."
   ]
  },
  {
   "cell_type": "code",
   "execution_count": 43,
   "metadata": {},
   "outputs": [],
   "source": [
    "class DataIterator:\n",
    "    def __init__(self, data1,data2, batch_size):\n",
    "        self.data1 = data1\n",
    "        self.data2 = data2\n",
    "        self.batch_size = batch_size\n",
    "        self.iter = self.make_random_iter()\n",
    "        \n",
    "    def next_batch(self):\n",
    "        try:\n",
    "            idxs = next(self.iter)\n",
    "        except StopIteration:\n",
    "            self.iter = self.make_random_iter()\n",
    "            idxs = next(self.iter)\n",
    "        X =[self.data1[i] for i in idxs]\n",
    "        Y =[self.data2[i] for i in idxs]\n",
    "        \n",
    "        X = np.array(X)\n",
    "        Y = np.array(Y)\n",
    "        return X, Y\n",
    "\n",
    "    def make_random_iter(self):\n",
    "        splits = np.arange(self.batch_size, len(self.data1), self.batch_size)\n",
    "        it = np.split(np.random.permutation(range(len(self.data1))), splits)[:-1]\n",
    "        return iter(it)"
   ]
  },
  {
   "cell_type": "markdown",
   "metadata": {},
   "source": [
    "**Initialize weights and biases and input**\n",
    "\n",
    "The general rule for setting the weights in a neural network is to be close\n",
    "to zero, without being too small. A good practice is to start your weights in\n",
    "the range of [−y, y], where: \n",
    "\n",
    "$ y = \\frac{1} {\\sqrt{n}} $\n",
    "\n",
    "(n is the number of inputs to a given\n",
    "neuron)."
   ]
  },
  {
   "cell_type": "code",
   "execution_count": 44,
   "metadata": {},
   "outputs": [],
   "source": [
    "############ Graph Creation ################      \n",
    "\n",
    "# TF Graph Input\n",
    "with tf.name_scope(\"weights\"):\n",
    "    Win  = tf.Variable(tf.random_uniform([n_hidden*r, hidden_units],\n",
    "                                          -1/np.sqrt(n_hidden),\n",
    "                                          1/np.sqrt(n_hidden)), name='W-input')\n",
    "    Wout = tf.Variable(tf.random_uniform([hidden_units, n_classes],\n",
    "                                          -1/np.sqrt(hidden_units),\n",
    "                                          1/np.sqrt(hidden_units)), name='W-out')\n",
    "    Ws1  = tf.Variable(tf.random_uniform([da,n_hidden],\n",
    "                                          -1/np.sqrt(da),\n",
    "                                         1/np.sqrt(da)), name='Ws1')\n",
    "    \n",
    "    Ws2  = tf.Variable(tf.random_uniform([r,da],\n",
    "                                         -1/np.sqrt(r),\n",
    "                                         1/np.sqrt(r)), name='Ws2')"
   ]
  },
  {
   "cell_type": "markdown",
   "metadata": {},
   "source": []
  },
  {
   "cell_type": "code",
   "execution_count": 45,
   "metadata": {},
   "outputs": [],
   "source": [
    "with tf.name_scope(\"biases\"):            \n",
    "    biasesout = tf.Variable(tf.random_normal([n_classes]), name='biases-out')\n",
    "    biasesin  = tf.Variable(tf.random_normal([hidden_units]), name='biases-in')"
   ]
  },
  {
   "cell_type": "code",
   "execution_count": null,
   "metadata": {},
   "outputs": [],
   "source": []
  },
  {
   "cell_type": "code",
   "execution_count": 46,
   "metadata": {},
   "outputs": [],
   "source": [
    "with tf.name_scope('input'):\n",
    "    x = tf.placeholder(\"int32\", [32,max_length], name='x-input')\n",
    "    y = tf.placeholder(\"int32\", [32, 2], name='y-input')"
   ]
  },
  {
   "cell_type": "markdown",
   "metadata": {},
   "source": [
    "Create tensors in the same default graph context with the embedded\n",
    "vectors. This takes the embedding matrix and an input tensor, such as the\n",
    "review vectors."
   ]
  },
  {
   "cell_type": "code",
   "execution_count": 47,
   "metadata": {},
   "outputs": [],
   "source": [
    "with tf.name_scope('embedding'):\n",
    "    embeddings = tf.Variable(tf.random_uniform([vocabulary, embedding_size],-1, 1), name='embeddings')\n",
    "    embed = tf.nn.embedding_lookup(embeddings,x)"
   ]
  },
  {
   "cell_type": "code",
   "execution_count": null,
   "metadata": {},
   "outputs": [],
   "source": []
  },
  {
   "cell_type": "code",
   "execution_count": 48,
   "metadata": {},
   "outputs": [],
   "source": [
    "def length(sequence):\n",
    "    # Computing maximum of elements across dimensions of a tensor\n",
    "    used = tf.sign(tf.reduce_max(tf.abs(sequence), reduction_indices=2))   \n",
    "    \n",
    "    length = tf.reduce_sum(used, reduction_indices=1)\n",
    "    length = tf.cast(length, tf.int32)\n",
    "    return length"
   ]
  },
  {
   "cell_type": "markdown",
   "metadata": {},
   "source": [
    "Reuse the weights and biases using the following:"
   ]
  },
  {
   "cell_type": "code",
   "execution_count": 49,
   "metadata": {},
   "outputs": [
    {
     "name": "stderr",
     "output_type": "stream",
     "text": [
      "WARNING: Logging before flag parsing goes to stderr.\n",
      "W0516 14:01:46.109194 47876 deprecation.py:323] From <ipython-input-49-4fa4132a33fc>:2: BasicLSTMCell.__init__ (from tensorflow.python.ops.rnn_cell_impl) is deprecated and will be removed in a future version.\n",
      "Instructions for updating:\n",
      "This class is equivalent as tf.keras.layers.LSTMCell, and will be replaced by that in Tensorflow 2.0.\n"
     ]
    }
   ],
   "source": [
    "with tf.variable_scope('forward',reuse=True):\n",
    "        lstm_fw_cell = rnn_cell.BasicLSTMCell(n_hidden)\n"
   ]
  },
  {
   "cell_type": "code",
   "execution_count": null,
   "metadata": {},
   "outputs": [],
   "source": []
  },
  {
   "cell_type": "code",
   "execution_count": 52,
   "metadata": {},
   "outputs": [],
   "source": [
    "with tf.name_scope('model'):  \n",
    "    outputs, states = rnn.dynamic_rnn(lstm_fw_cell,\n",
    "                                      embed,sequence_length=length(embed),\n",
    "                                      dtype=tf.float32,\n",
    "                                      time_major=False)  \n",
    "\n",
    "    # in the next step we multiply the hidden-vec matrix with the Ws1 by reshaping \n",
    "    h = tf.nn.tanh(tf.transpose(tf.reshape(tf.matmul(Ws1,tf.reshape(outputs,\n",
    "                                                                    [n_hidden,batch_size*n_steps])), \n",
    "                                           [da,batch_size,n_steps]),[1,0,2]))\n",
    "    # in this step we multiply the generated matrix with Ws2\n",
    "    a = tf.reshape(tf.matmul(Ws2,tf.reshape(h,\n",
    "                                            [da,batch_size*n_steps])),\n",
    "                   [batch_size,r,n_steps])\n",
    "    \n",
    "    def fn3(a,x):\n",
    "            return tf.nn.softmax(x)\n",
    "    h3 = tf.scan(fn3,a)"
   ]
  },
  {
   "cell_type": "code",
   "execution_count": null,
   "metadata": {},
   "outputs": [],
   "source": []
  },
  {
   "cell_type": "code",
   "execution_count": 53,
   "metadata": {},
   "outputs": [],
   "source": [
    "with tf.name_scope('flattening'):\n",
    "    # here we again multiply(batch) of the generated batch with the same hidden matrix\n",
    "    h4 = tf.matmul(h3,outputs)\n",
    "    # flattening the output embedded matrix\n",
    "    last = tf.reshape(h4,[-1,r*n_hidden])"
   ]
  },
  {
   "cell_type": "code",
   "execution_count": null,
   "metadata": {},
   "outputs": [],
   "source": []
  },
  {
   "cell_type": "code",
   "execution_count": 54,
   "metadata": {},
   "outputs": [
    {
     "name": "stderr",
     "output_type": "stream",
     "text": [
      "W0516 14:15:09.616365 47876 deprecation.py:506] From <ipython-input-54-aa67141db579>:3: calling dropout (from tensorflow.python.ops.nn_ops) with keep_prob is deprecated and will be removed in a future version.\n",
      "Instructions for updating:\n",
      "Please use `rate` instead of `keep_prob`. Rate should be set to `rate = 1 - keep_prob`.\n"
     ]
    }
   ],
   "source": [
    "\n",
    "with tf.name_scope('MLP'):\n",
    "    tf.nn.dropout(last,.5, noise_shape=None, seed=None, name=None)\n",
    "    pred1 = tf.nn.sigmoid(tf.matmul(last,Win)+biasesin)\n",
    "    pred  = tf.matmul(pred1, Wout) + biasesout"
   ]
  },
  {
   "cell_type": "code",
   "execution_count": null,
   "metadata": {},
   "outputs": [],
   "source": []
  },
  {
   "cell_type": "code",
   "execution_count": 55,
   "metadata": {},
   "outputs": [
    {
     "name": "stderr",
     "output_type": "stream",
     "text": [
      "W0516 14:15:38.359052 47876 deprecation.py:323] From <ipython-input-55-daa06a6c8ffd>:4: softmax_cross_entropy_with_logits (from tensorflow.python.ops.nn_ops) is deprecated and will be removed in a future version.\n",
      "Instructions for updating:\n",
      "\n",
      "Future major versions of TensorFlow will allow gradients to flow\n",
      "into the labels input on backprop by default.\n",
      "\n",
      "See `tf.nn.softmax_cross_entropy_with_logits_v2`.\n",
      "\n"
     ]
    }
   ],
   "source": [
    "\n",
    "# Define loss and optimizer\n",
    "with tf.name_scope('cross'):\n",
    "    cost = tf.reduce_mean(tf.nn.softmax_cross_entropy_with_logits(logits =pred, labels = y) + beta*tf.nn.l2_loss(Ws2) )"
   ]
  },
  {
   "cell_type": "code",
   "execution_count": null,
   "metadata": {},
   "outputs": [],
   "source": []
  },
  {
   "cell_type": "code",
   "execution_count": 56,
   "metadata": {},
   "outputs": [],
   "source": [
    "with tf.name_scope('train'):\n",
    "    optimizer = tf.train.AdamOptimizer(learning_rate=learning_rate)\n",
    "    gvs = optimizer.compute_gradients(cost)\n",
    "    capped_gvs = [(tf.clip_by_norm(grad,0.5), var) for grad, var in gvs]\n",
    "    optimizer.apply_gradients(capped_gvs)\n",
    "    optimized = optimizer.minimize(cost)"
   ]
  },
  {
   "cell_type": "code",
   "execution_count": null,
   "metadata": {},
   "outputs": [],
   "source": []
  },
  {
   "cell_type": "code",
   "execution_count": 57,
   "metadata": {},
   "outputs": [],
   "source": [
    "# Evaluate model\n",
    "with tf.name_scope('Accuracy'):\n",
    "    correct_pred = tf.equal(tf.argmax(pred,1), tf.argmax(y,1))\n",
    "    accuracy     = tf.reduce_mean(tf.cast(correct_pred, tf.float32))"
   ]
  },
  {
   "cell_type": "code",
   "execution_count": 58,
   "metadata": {},
   "outputs": [
    {
     "data": {
      "text/plain": [
       "<tf.Tensor 'accuracy_1:0' shape=() dtype=string>"
      ]
     },
     "execution_count": 58,
     "metadata": {},
     "output_type": "execute_result"
    }
   ],
   "source": [
    "tf.summary.scalar(\"cost\", cost)\n",
    "tf.summary.scalar(\"accuracy\", accuracy)"
   ]
  },
  {
   "cell_type": "code",
   "execution_count": null,
   "metadata": {},
   "outputs": [],
   "source": []
  },
  {
   "cell_type": "code",
   "execution_count": 59,
   "metadata": {},
   "outputs": [],
   "source": [
    "# merge all summaries into a single \"summary operation\" which we can execute in a session \n",
    "summary_op =tf.summary.merge_all()"
   ]
  },
  {
   "cell_type": "code",
   "execution_count": null,
   "metadata": {},
   "outputs": [],
   "source": []
  },
  {
   "cell_type": "code",
   "execution_count": 60,
   "metadata": {},
   "outputs": [],
   "source": [
    "\n",
    "# Initializing the variables\n",
    "train_iter = DataIterator(X_train,y_train, batch_size)    \n",
    "init = tf.global_variables_initializer()\n",
    "\n",
    "# This could give warning if in case the required port is being used already\n",
    "# Running the command again or releasing the port before the subsequent run should solve the purpose"
   ]
  },
  {
   "cell_type": "markdown",
   "metadata": {},
   "source": [
    "**Start to train the model.**\n",
    "\n",
    "Make sure the batch_size is sufficient enough to fit system requirements."
   ]
  },
  {
   "cell_type": "code",
   "execution_count": 61,
   "metadata": {},
   "outputs": [
    {
     "name": "stdout",
     "output_type": "stream",
     "text": [
      "Iter 64, Minibatch Loss= 49.681767, Training Accuracy= 50.00%\n",
      "Iter 384, Minibatch Loss= 0.701942, Training Accuracy= 53.12%\n",
      "Iter 704, Minibatch Loss= 0.827410, Training Accuracy= 53.12%\n",
      "Iter 1024, Minibatch Loss= 0.807983, Training Accuracy= 40.62%\n",
      "Iter 1344, Minibatch Loss= 0.731755, Training Accuracy= 59.38%\n",
      "Iter 1664, Minibatch Loss= 0.782390, Training Accuracy= 43.75%\n",
      "Iter 1984, Minibatch Loss= 0.798124, Training Accuracy= 46.88%\n",
      "Iter 2304, Minibatch Loss= 0.719862, Training Accuracy= 46.88%\n",
      "Iter 2624, Minibatch Loss= 0.711035, Training Accuracy= 56.25%\n",
      "Iter 2944, Minibatch Loss= 0.713115, Training Accuracy= 56.25%\n",
      "Iter 3264, Minibatch Loss= 0.755966, Training Accuracy= 40.62%\n",
      "Iter 3584, Minibatch Loss= 0.695097, Training Accuracy= 59.38%\n",
      "Iter 3904, Minibatch Loss= 0.708559, Training Accuracy= 50.00%\n",
      "Iter 4224, Minibatch Loss= 0.742921, Training Accuracy= 46.88%\n",
      "Iter 4544, Minibatch Loss= 0.746765, Training Accuracy= 46.88%\n",
      "Iter 4864, Minibatch Loss= 0.684644, Training Accuracy= 56.25%\n",
      "Iter 5184, Minibatch Loss= 0.645956, Training Accuracy= 71.88%\n",
      "Iter 5504, Minibatch Loss= 0.758342, Training Accuracy= 43.75%\n",
      "Iter 5824, Minibatch Loss= 0.761538, Training Accuracy= 34.38%\n",
      "Iter 6144, Minibatch Loss= 0.714275, Training Accuracy= 56.25%\n",
      "Iter 6464, Minibatch Loss= 0.735854, Training Accuracy= 34.38%\n",
      "Iter 6784, Minibatch Loss= 0.660564, Training Accuracy= 65.62%\n",
      "Iter 7104, Minibatch Loss= 0.745878, Training Accuracy= 46.88%\n",
      "Iter 7424, Minibatch Loss= 0.747807, Training Accuracy= 43.75%\n",
      "Iter 7744, Minibatch Loss= 0.699763, Training Accuracy= 56.25%\n",
      "Iter 8064, Minibatch Loss= 0.689521, Training Accuracy= 62.50%\n",
      "Iter 8384, Minibatch Loss= 0.718817, Training Accuracy= 43.75%\n",
      "Iter 8704, Minibatch Loss= 0.698476, Training Accuracy= 59.38%\n",
      "Iter 9024, Minibatch Loss= 0.699105, Training Accuracy= 62.50%\n",
      "Iter 9344, Minibatch Loss= 0.758009, Training Accuracy= 40.62%\n",
      "Iter 9664, Minibatch Loss= 0.703371, Training Accuracy= 56.25%\n",
      "Iter 9984, Minibatch Loss= 0.708800, Training Accuracy= 53.12%\n",
      "Iter 10304, Minibatch Loss= 0.701073, Training Accuracy= 56.25%\n",
      "Iter 10624, Minibatch Loss= 0.836057, Training Accuracy= 53.12%\n",
      "Iter 10944, Minibatch Loss= 0.723400, Training Accuracy= 31.25%\n",
      "Iter 11264, Minibatch Loss= 0.821241, Training Accuracy= 43.75%\n",
      "Iter 11584, Minibatch Loss= 0.787448, Training Accuracy= 50.00%\n",
      "Iter 11904, Minibatch Loss= 0.786023, Training Accuracy= 59.38%\n",
      "Iter 12224, Minibatch Loss= 0.750730, Training Accuracy= 50.00%\n",
      "Iter 12544, Minibatch Loss= 0.851777, Training Accuracy= 46.88%\n",
      "Iter 12864, Minibatch Loss= 0.680801, Training Accuracy= 62.50%\n",
      "Iter 13184, Minibatch Loss= 0.787348, Training Accuracy= 43.75%\n",
      "Iter 13504, Minibatch Loss= 0.663573, Training Accuracy= 65.62%\n",
      "Iter 13824, Minibatch Loss= 1.017168, Training Accuracy= 53.12%\n",
      "Iter 14144, Minibatch Loss= 0.711307, Training Accuracy= 59.38%\n",
      "Iter 14464, Minibatch Loss= 0.788579, Training Accuracy= 53.12%\n",
      "Iter 14784, Minibatch Loss= 0.825668, Training Accuracy= 50.00%\n",
      "Iter 15104, Minibatch Loss= 0.707574, Training Accuracy= 53.12%\n",
      "Iter 15424, Minibatch Loss= 0.706989, Training Accuracy= 53.12%\n",
      "Iter 15744, Minibatch Loss= 0.690066, Training Accuracy= 62.50%\n",
      "Iter 16064, Minibatch Loss= 0.700892, Training Accuracy= 56.25%\n",
      "Iter 16384, Minibatch Loss= 0.753678, Training Accuracy= 40.62%\n",
      "Iter 16704, Minibatch Loss= 0.748071, Training Accuracy= 43.75%\n",
      "Iter 17024, Minibatch Loss= 0.718374, Training Accuracy= 50.00%\n",
      "Iter 17344, Minibatch Loss= 0.661165, Training Accuracy= 65.62%\n",
      "Iter 17664, Minibatch Loss= 0.721888, Training Accuracy= 50.00%\n",
      "Iter 17984, Minibatch Loss= 0.702014, Training Accuracy= 62.50%\n",
      "Iter 18304, Minibatch Loss= 0.836715, Training Accuracy= 46.88%\n",
      "Iter 18624, Minibatch Loss= 0.713184, Training Accuracy= 50.00%\n",
      "Iter 18944, Minibatch Loss= 0.737166, Training Accuracy= 46.88%\n",
      "Iter 19264, Minibatch Loss= 0.694766, Training Accuracy= 59.38%\n",
      "Iter 19584, Minibatch Loss= 0.772719, Training Accuracy= 50.00%\n",
      "Iter 19904, Minibatch Loss= 0.707069, Training Accuracy= 68.75%\n",
      "Iter 20224, Minibatch Loss= 0.723705, Training Accuracy= 43.75%\n",
      "Iter 20544, Minibatch Loss= 0.701246, Training Accuracy= 56.25%\n",
      "Iter 20864, Minibatch Loss= 0.685293, Training Accuracy= 62.50%\n",
      "Iter 21184, Minibatch Loss= 0.701171, Training Accuracy= 65.62%\n",
      "Iter 21504, Minibatch Loss= 0.706333, Training Accuracy= 53.12%\n",
      "Iter 21824, Minibatch Loss= 0.715513, Training Accuracy= 53.12%\n",
      "Iter 22144, Minibatch Loss= 0.699785, Training Accuracy= 56.25%\n",
      "Iter 22464, Minibatch Loss= 0.690210, Training Accuracy= 59.38%\n",
      "Iter 22784, Minibatch Loss= 0.699156, Training Accuracy= 68.75%\n",
      "Iter 23104, Minibatch Loss= 0.728522, Training Accuracy= 43.75%\n",
      "Iter 23424, Minibatch Loss= 0.902619, Training Accuracy= 56.25%\n",
      "Iter 23744, Minibatch Loss= 0.943045, Training Accuracy= 46.88%\n",
      "Iter 24064, Minibatch Loss= 0.728050, Training Accuracy= 46.88%\n",
      "Iter 24384, Minibatch Loss= 0.732392, Training Accuracy= 56.25%\n",
      "Iter 24704, Minibatch Loss= 0.732235, Training Accuracy= 53.12%\n",
      "Iter 25024, Minibatch Loss= 0.721416, Training Accuracy= 43.75%\n",
      "Iter 25344, Minibatch Loss= 0.755041, Training Accuracy= 46.88%\n",
      "Iter 25664, Minibatch Loss= 0.718379, Training Accuracy= 50.00%\n",
      "Iter 25984, Minibatch Loss= 0.744585, Training Accuracy= 53.12%\n",
      "Iter 26304, Minibatch Loss= 0.728716, Training Accuracy= 34.38%\n",
      "Iter 26624, Minibatch Loss= 0.701915, Training Accuracy= 59.38%\n",
      "Iter 26944, Minibatch Loss= 0.706684, Training Accuracy= 53.12%\n",
      "Iter 27264, Minibatch Loss= 0.706522, Training Accuracy= 56.25%\n",
      "Iter 27584, Minibatch Loss= 0.713825, Training Accuracy= 50.00%\n",
      "Iter 27904, Minibatch Loss= 0.745341, Training Accuracy= 50.00%\n",
      "Iter 28224, Minibatch Loss= 0.741502, Training Accuracy= 46.88%\n",
      "Iter 28544, Minibatch Loss= 0.688067, Training Accuracy= 62.50%\n",
      "Iter 28864, Minibatch Loss= 0.699745, Training Accuracy= 56.25%\n",
      "Iter 29184, Minibatch Loss= 0.725807, Training Accuracy= 50.00%\n",
      "Iter 29504, Minibatch Loss= 0.707444, Training Accuracy= 56.25%\n",
      "Iter 29824, Minibatch Loss= 0.719731, Training Accuracy= 59.38%\n",
      "Iter 30144, Minibatch Loss= 0.735816, Training Accuracy= 53.12%\n",
      "Iter 30464, Minibatch Loss= 0.696208, Training Accuracy= 59.38%\n",
      "Iter 30784, Minibatch Loss= 0.849228, Training Accuracy= 56.25%\n",
      "Iter 31104, Minibatch Loss= 0.707963, Training Accuracy= 53.12%\n",
      "Iter 31424, Minibatch Loss= 0.803942, Training Accuracy= 56.25%\n",
      "Iter 31744, Minibatch Loss= 0.705405, Training Accuracy= 56.25%\n",
      "Iter 32064, Minibatch Loss= 0.769522, Training Accuracy= 53.12%\n",
      "Iter 32384, Minibatch Loss= 0.705884, Training Accuracy= 53.12%\n",
      "Iter 32704, Minibatch Loss= 0.713016, Training Accuracy= 46.88%\n",
      "Iter 33024, Minibatch Loss= 0.719367, Training Accuracy= 50.00%\n",
      "Iter 33344, Minibatch Loss= 0.689580, Training Accuracy= 59.38%\n",
      "Iter 33664, Minibatch Loss= 0.755362, Training Accuracy= 34.38%\n",
      "Iter 33984, Minibatch Loss= 0.833865, Training Accuracy= 46.88%\n",
      "Iter 34304, Minibatch Loss= 0.705450, Training Accuracy= 53.12%\n",
      "Iter 34624, Minibatch Loss= 0.721727, Training Accuracy= 46.88%\n",
      "Iter 34944, Minibatch Loss= 0.727368, Training Accuracy= 53.12%\n",
      "Iter 35264, Minibatch Loss= 0.730225, Training Accuracy= 62.50%\n",
      "Iter 35584, Minibatch Loss= 0.753668, Training Accuracy= 43.75%\n",
      "Iter 35904, Minibatch Loss= 0.730058, Training Accuracy= 40.62%\n",
      "Iter 36224, Minibatch Loss= 0.705079, Training Accuracy= 59.38%\n",
      "Iter 36544, Minibatch Loss= 0.659181, Training Accuracy= 65.62%\n",
      "Iter 36864, Minibatch Loss= 0.901017, Training Accuracy= 34.38%\n",
      "Iter 37184, Minibatch Loss= 0.720536, Training Accuracy= 43.75%\n",
      "Iter 37504, Minibatch Loss= 0.691208, Training Accuracy= 59.38%\n",
      "Iter 37824, Minibatch Loss= 0.716298, Training Accuracy= 43.75%\n",
      "Iter 38144, Minibatch Loss= 0.698969, Training Accuracy= 56.25%\n",
      "Iter 38464, Minibatch Loss= 0.723142, Training Accuracy= 40.62%\n",
      "Iter 38784, Minibatch Loss= 0.695709, Training Accuracy= 59.38%\n",
      "Iter 39104, Minibatch Loss= 0.722255, Training Accuracy= 59.38%\n",
      "Iter 39424, Minibatch Loss= 0.692454, Training Accuracy= 59.38%\n",
      "Iter 39744, Minibatch Loss= 0.749366, Training Accuracy= 53.12%\n",
      "Iter 40064, Minibatch Loss= 0.876552, Training Accuracy= 53.12%\n",
      "Iter 40384, Minibatch Loss= 0.738306, Training Accuracy= 43.75%\n",
      "Iter 40704, Minibatch Loss= 0.707634, Training Accuracy= 50.00%\n",
      "Iter 41024, Minibatch Loss= 0.725743, Training Accuracy= 43.75%\n"
     ]
    },
    {
     "name": "stdout",
     "output_type": "stream",
     "text": [
      "Iter 41344, Minibatch Loss= 0.764301, Training Accuracy= 46.88%\n",
      "Iter 41664, Minibatch Loss= 0.688696, Training Accuracy= 59.38%\n",
      "Iter 41984, Minibatch Loss= 0.731804, Training Accuracy= 43.75%\n",
      "Iter 42304, Minibatch Loss= 0.710098, Training Accuracy= 46.88%\n",
      "Iter 42624, Minibatch Loss= 0.688416, Training Accuracy= 59.38%\n",
      "Iter 42944, Minibatch Loss= 0.704524, Training Accuracy= 53.12%\n",
      "Iter 43264, Minibatch Loss= 0.688413, Training Accuracy= 59.38%\n",
      "Iter 43584, Minibatch Loss= 0.922255, Training Accuracy= 46.88%\n",
      "Iter 43904, Minibatch Loss= 0.698152, Training Accuracy= 59.38%\n",
      "Iter 44224, Minibatch Loss= 0.922108, Training Accuracy= 40.62%\n",
      "Iter 44544, Minibatch Loss= 0.696977, Training Accuracy= 59.38%\n",
      "Iter 44864, Minibatch Loss= 0.708457, Training Accuracy= 46.88%\n",
      "Iter 45184, Minibatch Loss= 0.712999, Training Accuracy= 50.00%\n",
      "Iter 45504, Minibatch Loss= 0.705058, Training Accuracy= 56.25%\n",
      "Iter 45824, Minibatch Loss= 0.716852, Training Accuracy= 56.25%\n",
      "Iter 46144, Minibatch Loss= 0.738991, Training Accuracy= 40.62%\n",
      "Iter 46464, Minibatch Loss= 0.740571, Training Accuracy= 62.50%\n",
      "Iter 46784, Minibatch Loss= 0.674421, Training Accuracy= 62.50%\n",
      "Iter 47104, Minibatch Loss= 0.706070, Training Accuracy= 50.00%\n",
      "Iter 47424, Minibatch Loss= 0.718861, Training Accuracy= 59.38%\n",
      "Iter 47744, Minibatch Loss= 0.709752, Training Accuracy= 50.00%\n",
      "Iter 48064, Minibatch Loss= 0.694074, Training Accuracy= 65.62%\n",
      "Iter 48384, Minibatch Loss= 0.747288, Training Accuracy= 50.00%\n",
      "Iter 48704, Minibatch Loss= 0.742632, Training Accuracy= 56.25%\n",
      "Iter 49024, Minibatch Loss= 0.711953, Training Accuracy= 53.12%\n",
      "Iter 49344, Minibatch Loss= 0.743932, Training Accuracy= 53.12%\n",
      "Iter 49664, Minibatch Loss= 0.755491, Training Accuracy= 46.88%\n",
      "Iter 49984, Minibatch Loss= 0.713845, Training Accuracy= 46.88%\n",
      "Iter 50304, Minibatch Loss= 0.762254, Training Accuracy= 53.12%\n",
      "Iter 50624, Minibatch Loss= 0.753291, Training Accuracy= 53.12%\n",
      "Iter 50944, Minibatch Loss= 0.703839, Training Accuracy= 56.25%\n",
      "Iter 51264, Minibatch Loss= 0.697620, Training Accuracy= 56.25%\n",
      "Iter 51584, Minibatch Loss= 0.738148, Training Accuracy= 40.62%\n",
      "Iter 51904, Minibatch Loss= 0.718256, Training Accuracy= 56.25%\n",
      "Iter 52224, Minibatch Loss= 0.697889, Training Accuracy= 59.38%\n",
      "Iter 52544, Minibatch Loss= 0.716829, Training Accuracy= 62.50%\n",
      "Iter 52864, Minibatch Loss= 0.697536, Training Accuracy= 59.38%\n",
      "Iter 53184, Minibatch Loss= 0.853215, Training Accuracy= 46.88%\n",
      "Iter 53504, Minibatch Loss= 0.726467, Training Accuracy= 50.00%\n",
      "Iter 53824, Minibatch Loss= 0.826343, Training Accuracy= 43.75%\n",
      "Iter 54144, Minibatch Loss= 0.687729, Training Accuracy= 59.38%\n",
      "Iter 54464, Minibatch Loss= 0.851609, Training Accuracy= 53.12%\n",
      "Iter 54784, Minibatch Loss= 0.938537, Training Accuracy= 43.75%\n",
      "Iter 55104, Minibatch Loss= 0.722964, Training Accuracy= 53.12%\n",
      "Iter 55424, Minibatch Loss= 0.740072, Training Accuracy= 50.00%\n",
      "Iter 55744, Minibatch Loss= 0.899574, Training Accuracy= 40.62%\n",
      "Iter 56064, Minibatch Loss= 0.678533, Training Accuracy= 62.50%\n",
      "Iter 56384, Minibatch Loss= 0.690873, Training Accuracy= 59.38%\n",
      "Iter 56704, Minibatch Loss= 0.690450, Training Accuracy= 59.38%\n",
      "Iter 57024, Minibatch Loss= 0.633022, Training Accuracy= 68.75%\n",
      "Iter 57344, Minibatch Loss= 0.898777, Training Accuracy= 56.25%\n",
      "Iter 57664, Minibatch Loss= 0.703163, Training Accuracy= 53.12%\n",
      "Iter 57984, Minibatch Loss= 0.675202, Training Accuracy= 62.50%\n",
      "Iter 58304, Minibatch Loss= 0.943451, Training Accuracy= 53.12%\n",
      "Iter 58624, Minibatch Loss= 0.928639, Training Accuracy= 62.50%\n",
      "Iter 58944, Minibatch Loss= 0.655370, Training Accuracy= 65.62%\n",
      "Iter 59264, Minibatch Loss= 0.819444, Training Accuracy= 46.88%\n",
      "Iter 59584, Minibatch Loss= 0.678855, Training Accuracy= 65.62%\n",
      "Iter 59904, Minibatch Loss= 0.821019, Training Accuracy= 53.12%\n",
      "Iter 60224, Minibatch Loss= 0.986783, Training Accuracy= 56.25%\n",
      "Iter 60544, Minibatch Loss= 0.779496, Training Accuracy= 46.88%\n",
      "Iter 60864, Minibatch Loss= 0.754407, Training Accuracy= 50.00%\n",
      "Iter 61184, Minibatch Loss= 0.706201, Training Accuracy= 50.00%\n",
      "Iter 61504, Minibatch Loss= 0.725691, Training Accuracy= 34.38%\n",
      "Iter 61824, Minibatch Loss= 0.693137, Training Accuracy= 59.38%\n",
      "Iter 62144, Minibatch Loss= 0.723184, Training Accuracy= 53.12%\n",
      "Iter 62464, Minibatch Loss= 0.696365, Training Accuracy= 59.38%\n",
      "Iter 62784, Minibatch Loss= 0.742703, Training Accuracy= 40.62%\n",
      "Iter 63104, Minibatch Loss= 0.706709, Training Accuracy= 43.75%\n",
      "Iter 63424, Minibatch Loss= 0.704542, Training Accuracy= 50.00%\n",
      "Iter 63744, Minibatch Loss= 0.705254, Training Accuracy= 50.00%\n",
      "Iter 64064, Minibatch Loss= 0.744418, Training Accuracy= 46.88%\n",
      "Iter 64384, Minibatch Loss= 0.745434, Training Accuracy= 50.00%\n",
      "Iter 64704, Minibatch Loss= 0.745867, Training Accuracy= 43.75%\n",
      "Iter 65024, Minibatch Loss= 0.802434, Training Accuracy= 34.38%\n",
      "Iter 65344, Minibatch Loss= 0.670738, Training Accuracy= 71.88%\n",
      "Iter 65664, Minibatch Loss= 0.716902, Training Accuracy= 37.50%\n",
      "Iter 65984, Minibatch Loss= 0.707037, Training Accuracy= 43.75%\n",
      "Iter 66304, Minibatch Loss= 0.763223, Training Accuracy= 43.75%\n",
      "Iter 66624, Minibatch Loss= 0.738742, Training Accuracy= 62.50%\n",
      "Iter 66944, Minibatch Loss= 0.826630, Training Accuracy= 46.88%\n",
      "Iter 67264, Minibatch Loss= 0.704833, Training Accuracy= 53.12%\n",
      "Iter 67584, Minibatch Loss= 0.804046, Training Accuracy= 53.12%\n",
      "Iter 67904, Minibatch Loss= 0.699430, Training Accuracy= 56.25%\n",
      "Iter 68224, Minibatch Loss= 0.788316, Training Accuracy= 46.88%\n",
      "Iter 68544, Minibatch Loss= 0.704264, Training Accuracy= 50.00%\n",
      "Iter 68864, Minibatch Loss= 0.801020, Training Accuracy= 37.50%\n",
      "Iter 69184, Minibatch Loss= 0.706772, Training Accuracy= 50.00%\n",
      "Iter 69504, Minibatch Loss= 0.704345, Training Accuracy= 53.12%\n",
      "Iter 69824, Minibatch Loss= 0.760422, Training Accuracy= 56.25%\n",
      "Iter 70144, Minibatch Loss= 0.880416, Training Accuracy= 40.62%\n",
      "Iter 70464, Minibatch Loss= 0.699821, Training Accuracy= 56.25%\n",
      "Iter 70784, Minibatch Loss= 0.726497, Training Accuracy= 34.38%\n",
      "Iter 71104, Minibatch Loss= 0.795550, Training Accuracy= 40.62%\n",
      "Iter 71424, Minibatch Loss= 0.738045, Training Accuracy= 50.00%\n",
      "Iter 71744, Minibatch Loss= 0.753927, Training Accuracy= 43.75%\n",
      "Iter 72064, Minibatch Loss= 0.772237, Training Accuracy= 46.88%\n",
      "Iter 72384, Minibatch Loss= 0.714051, Training Accuracy= 56.25%\n",
      "Iter 72704, Minibatch Loss= 0.701492, Training Accuracy= 56.25%\n",
      "Iter 73024, Minibatch Loss= 0.743280, Training Accuracy= 40.62%\n",
      "Iter 73344, Minibatch Loss= 0.724674, Training Accuracy= 59.38%\n",
      "Iter 73664, Minibatch Loss= 0.728874, Training Accuracy= 40.62%\n",
      "Iter 73984, Minibatch Loss= 0.704175, Training Accuracy= 59.38%\n",
      "Iter 74304, Minibatch Loss= 0.796547, Training Accuracy= 50.00%\n",
      "Iter 74624, Minibatch Loss= 0.697439, Training Accuracy= 56.25%\n",
      "Iter 74944, Minibatch Loss= 0.705905, Training Accuracy= 56.25%\n",
      "Iter 75264, Minibatch Loss= 0.818118, Training Accuracy= 56.25%\n",
      "Iter 75584, Minibatch Loss= 0.703763, Training Accuracy= 46.88%\n",
      "Iter 75904, Minibatch Loss= 0.771255, Training Accuracy= 46.88%\n",
      "Iter 76224, Minibatch Loss= 0.701057, Training Accuracy= 56.25%\n",
      "Iter 76544, Minibatch Loss= 0.685772, Training Accuracy= 59.38%\n",
      "Iter 76864, Minibatch Loss= 0.702945, Training Accuracy= 53.12%\n",
      "Iter 77184, Minibatch Loss= 0.693820, Training Accuracy= 59.38%\n",
      "Iter 77504, Minibatch Loss= 0.720303, Training Accuracy= 56.25%\n",
      "Iter 77824, Minibatch Loss= 0.688007, Training Accuracy= 62.50%\n",
      "Iter 78144, Minibatch Loss= 0.726596, Training Accuracy= 53.12%\n",
      "Iter 78464, Minibatch Loss= 0.674980, Training Accuracy= 65.62%\n",
      "Iter 78784, Minibatch Loss= 0.687422, Training Accuracy= 59.38%\n",
      "Iter 79104, Minibatch Loss= 0.713757, Training Accuracy= 46.88%\n",
      "Iter 79424, Minibatch Loss= 0.707437, Training Accuracy= 46.88%\n",
      "Iter 79744, Minibatch Loss= 0.731098, Training Accuracy= 53.12%\n",
      "Iter 80064, Minibatch Loss= 0.711454, Training Accuracy= 53.12%\n",
      "Iter 80384, Minibatch Loss= 0.698496, Training Accuracy= 59.38%\n",
      "Iter 80704, Minibatch Loss= 0.795704, Training Accuracy= 40.62%\n",
      "Iter 81024, Minibatch Loss= 0.709752, Training Accuracy= 53.12%\n",
      "Iter 81344, Minibatch Loss= 0.704951, Training Accuracy= 56.25%\n",
      "Iter 81664, Minibatch Loss= 0.702406, Training Accuracy= 59.38%\n",
      "Iter 81984, Minibatch Loss= 0.708223, Training Accuracy= 50.00%\n",
      "Iter 82304, Minibatch Loss= 0.740937, Training Accuracy= 50.00%\n"
     ]
    },
    {
     "name": "stdout",
     "output_type": "stream",
     "text": [
      "Iter 82624, Minibatch Loss= 0.708601, Training Accuracy= 50.00%\n",
      "Iter 82944, Minibatch Loss= 0.817616, Training Accuracy= 46.88%\n",
      "Iter 83264, Minibatch Loss= 0.716550, Training Accuracy= 34.38%\n",
      "Iter 83584, Minibatch Loss= 0.654846, Training Accuracy= 65.62%\n",
      "Iter 83904, Minibatch Loss= 0.685152, Training Accuracy= 59.38%\n",
      "Iter 84224, Minibatch Loss= 0.703475, Training Accuracy= 50.00%\n",
      "Iter 84544, Minibatch Loss= 0.707668, Training Accuracy= 50.00%\n",
      "Iter 84864, Minibatch Loss= 0.750228, Training Accuracy= 53.12%\n",
      "Iter 85184, Minibatch Loss= 0.718305, Training Accuracy= 53.12%\n",
      "Iter 85504, Minibatch Loss= 0.697662, Training Accuracy= 62.50%\n",
      "Iter 85824, Minibatch Loss= 0.753453, Training Accuracy= 50.00%\n",
      "Iter 86144, Minibatch Loss= 0.741124, Training Accuracy= 46.88%\n",
      "Iter 86464, Minibatch Loss= 0.725558, Training Accuracy= 50.00%\n",
      "Iter 86784, Minibatch Loss= 0.799057, Training Accuracy= 43.75%\n",
      "Iter 87104, Minibatch Loss= 0.711870, Training Accuracy= 46.88%\n",
      "Iter 87424, Minibatch Loss= 0.760621, Training Accuracy= 40.62%\n",
      "Iter 87744, Minibatch Loss= 0.697533, Training Accuracy= 62.50%\n",
      "Iter 88064, Minibatch Loss= 0.675053, Training Accuracy= 62.50%\n",
      "Iter 88384, Minibatch Loss= 0.696829, Training Accuracy= 59.38%\n",
      "Iter 88704, Minibatch Loss= 0.733567, Training Accuracy= 46.88%\n",
      "Iter 89024, Minibatch Loss= 0.664974, Training Accuracy= 68.75%\n",
      "Iter 89344, Minibatch Loss= 0.699281, Training Accuracy= 59.38%\n",
      "Iter 89664, Minibatch Loss= 0.795135, Training Accuracy= 40.62%\n",
      "Iter 89984, Minibatch Loss= 0.692276, Training Accuracy= 62.50%\n",
      "Iter 90304, Minibatch Loss= 0.717003, Training Accuracy= 40.62%\n",
      "Iter 90624, Minibatch Loss= 0.695754, Training Accuracy= 56.25%\n",
      "Iter 90944, Minibatch Loss= 0.776177, Training Accuracy= 46.88%\n",
      "Iter 91264, Minibatch Loss= 0.692099, Training Accuracy= 62.50%\n",
      "Iter 91584, Minibatch Loss= 0.790185, Training Accuracy= 43.75%\n",
      "Iter 91904, Minibatch Loss= 0.965628, Training Accuracy= 43.75%\n",
      "Iter 92224, Minibatch Loss= 0.707802, Training Accuracy= 50.00%\n",
      "Iter 92544, Minibatch Loss= 0.594891, Training Accuracy= 75.00%\n",
      "Iter 92864, Minibatch Loss= 0.715817, Training Accuracy= 50.00%\n",
      "Iter 93184, Minibatch Loss= 0.694265, Training Accuracy= 56.25%\n",
      "Iter 93504, Minibatch Loss= 0.708649, Training Accuracy= 56.25%\n",
      "Iter 93824, Minibatch Loss= 0.787586, Training Accuracy= 56.25%\n",
      "Iter 94144, Minibatch Loss= 0.701019, Training Accuracy= 53.12%\n",
      "Iter 94464, Minibatch Loss= 0.826924, Training Accuracy= 50.00%\n",
      "Iter 94784, Minibatch Loss= 0.837523, Training Accuracy= 40.62%\n",
      "Iter 95104, Minibatch Loss= 0.753272, Training Accuracy= 59.38%\n",
      "Iter 95424, Minibatch Loss= 0.697183, Training Accuracy= 56.25%\n",
      "Iter 95744, Minibatch Loss= 0.845076, Training Accuracy= 59.38%\n",
      "Iter 96064, Minibatch Loss= 0.760136, Training Accuracy= 50.00%\n",
      "Iter 96384, Minibatch Loss= 0.811644, Training Accuracy= 50.00%\n",
      "Iter 96704, Minibatch Loss= 0.703894, Training Accuracy= 46.88%\n",
      "Iter 97024, Minibatch Loss= 0.745020, Training Accuracy= 46.88%\n",
      "Iter 97344, Minibatch Loss= 0.694608, Training Accuracy= 56.25%\n",
      "Iter 97664, Minibatch Loss= 0.686304, Training Accuracy= 59.38%\n",
      "Iter 97984, Minibatch Loss= 0.814550, Training Accuracy= 43.75%\n",
      "Iter 98304, Minibatch Loss= 0.846873, Training Accuracy= 31.25%\n",
      "Iter 98624, Minibatch Loss= 0.677712, Training Accuracy= 62.50%\n",
      "Iter 98944, Minibatch Loss= 0.759914, Training Accuracy= 43.75%\n",
      "Iter 99264, Minibatch Loss= 0.694157, Training Accuracy= 56.25%\n",
      "Iter 99584, Minibatch Loss= 0.703086, Training Accuracy= 40.62%\n",
      "Iter 99904, Minibatch Loss= 0.724936, Training Accuracy= 46.88%\n",
      "Optimization Finished!\n"
     ]
    }
   ],
   "source": [
    "with tf.Session() as sess:\n",
    "    sess.run(init)\n",
    "    # Creating log file writer object\n",
    "    writer = tf.summary.FileWriter(logs_path, graph=tf.get_default_graph())\n",
    "    step = 1\n",
    "    \n",
    "    # Keep training until reach max iterations\n",
    "    while step * batch_size < training_iters:\n",
    "        batch_x, batch_y = train_iter.next_batch()\n",
    "        sess.run(optimized, feed_dict={x: batch_x, y: batch_y})\n",
    "        # Executing the summary operation in the session\n",
    "        summary = sess.run(summary_op, feed_dict={x: batch_x, y: batch_y})\n",
    "        # Writing the values in log file using the FileWriter object created above\n",
    "        writer.add_summary(summary,  step*batch_size)\n",
    "        if step % display_step == 2:\n",
    "            # Calculate batch accuracy\n",
    "            acc = sess.run(accuracy, feed_dict={x: batch_x, y: batch_y})\n",
    "            # Calculate batch loss\n",
    "            loss = sess.run(cost, feed_dict={x: batch_x, y: batch_y})\n",
    "            print (\"Iter \" + str(step*batch_size) + \\\n",
    "                   \", Minibatch Loss= \" + \"{:.6f}\".format(loss) + \\\n",
    "                   \", Training Accuracy= \" + \"{:.2f}\".format(acc*100) + \"%\")\n",
    "        step += 1\n",
    "    print (\"Optimization Finished!\")"
   ]
  },
  {
   "cell_type": "markdown",
   "metadata": {},
   "source": [
    "For the graph visualization type the next line in your terminal inside of the project folder:\n",
    "    \n",
    "    tensorboard --logdir=./ --port=6006"
   ]
  },
  {
   "cell_type": "markdown",
   "metadata": {},
   "source": [
    "The graph shows the variables that have been scoped\n",
    "throughout the code, which helps in understanding the flow of the data\n",
    "and connections across the model."
   ]
  },
  {
   "cell_type": "markdown",
   "metadata": {},
   "source": [
    "<img src=\"network_structure.JPG\">"
   ]
  },
  {
   "cell_type": "markdown",
   "metadata": {},
   "source": [
    "The Figure shows the MLP component of the graph, which is used to\n",
    "add the addition of dropout to the last layer, and the sigmoid function to\n",
    "predict the final sentiment classification results. The final predictions are\n",
    "further used to gather the model’s accuracy and cost."
   ]
  },
  {
   "cell_type": "markdown",
   "metadata": {},
   "source": [
    "<img src=\"MLP.JPG\">"
   ]
  },
  {
   "cell_type": "code",
   "execution_count": null,
   "metadata": {},
   "outputs": [],
   "source": []
  }
 ],
 "metadata": {
  "kernelspec": {
   "display_name": "Python 3",
   "language": "python",
   "name": "python3"
  },
  "language_info": {
   "codemirror_mode": {
    "name": "ipython",
    "version": 3
   },
   "file_extension": ".py",
   "mimetype": "text/x-python",
   "name": "python",
   "nbconvert_exporter": "python",
   "pygments_lexer": "ipython3",
   "version": "3.7.0"
  }
 },
 "nbformat": 4,
 "nbformat_minor": 2
}

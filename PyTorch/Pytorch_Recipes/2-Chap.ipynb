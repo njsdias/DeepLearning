{
 "cells": [
  {
   "cell_type": "code",
   "execution_count": 7,
   "metadata": {},
   "outputs": [],
   "source": [
    "import torch\n",
    "from torch.autograd import Variable"
   ]
  },
  {
   "cell_type": "code",
   "execution_count": 8,
   "metadata": {},
   "outputs": [
    {
     "data": {
      "text/plain": [
       "tensor([[1., 1.],\n",
       "        [1., 1.]], requires_grad=True)"
      ]
     },
     "execution_count": 8,
     "metadata": {},
     "output_type": "execute_result"
    }
   ],
   "source": [
    "Variable(torch.ones(2,2), requires_grad =  True)"
   ]
  },
  {
   "cell_type": "code",
   "execution_count": 9,
   "metadata": {},
   "outputs": [
    {
     "name": "stdout",
     "output_type": "stream",
     "text": [
      "tensor(3320.8655, grad_fn=<SumBackward0>)\n"
     ]
    }
   ],
   "source": [
    "a, b = 12, 23\n",
    "x1 = Variable(torch.randn(a,b),\n",
    "             requires_grad = True)\n",
    "x2 = Variable(torch.randn(a,b),\n",
    "             requires_grad = True)\n",
    "x3 = Variable(torch.randn(a,b),\n",
    "             requires_grad = True)\n",
    "\n",
    "C = x1 * x2\n",
    "d = a + x3\n",
    "e = torch.sum(d)\n",
    "e.backward()\n",
    "print(e)\n"
   ]
  },
  {
   "cell_type": "markdown",
   "metadata": {},
   "source": [
    "## Basics Statistics"
   ]
  },
  {
   "cell_type": "code",
   "execution_count": 12,
   "metadata": {},
   "outputs": [
    {
     "data": {
      "text/plain": [
       "tensor(45.9167, dtype=torch.float64)"
      ]
     },
     "execution_count": 12,
     "metadata": {},
     "output_type": "execute_result"
    }
   ],
   "source": [
    "#computoing the descriptive statistics: mean\n",
    "torch.mean(torch.tensor([10,10,13,10,34,45,65,67,87,89,87,34], dtype = torch.double))"
   ]
  },
  {
   "cell_type": "code",
   "execution_count": 14,
   "metadata": {},
   "outputs": [
    {
     "data": {
      "text/plain": [
       "tensor([[-0.9500, -0.7730,  0.9967,  1.0472, -1.1716],\n",
       "        [ 0.9745,  1.4406, -1.6630, -0.6306,  0.0883],\n",
       "        [ 1.0498, -0.2966, -0.4151,  0.7595,  0.8942],\n",
       "        [-0.1833, -0.6416, -0.4342,  0.0979,  1.3565]])"
      ]
     },
     "execution_count": 14,
     "metadata": {},
     "output_type": "execute_result"
    }
   ],
   "source": [
    "#mean across rows and across columns\n",
    "d = torch.randn(4,5)\n",
    "d"
   ]
  },
  {
   "cell_type": "code",
   "execution_count": 16,
   "metadata": {},
   "outputs": [
    {
     "data": {
      "text/plain": [
       "tensor([ 0.2228, -0.0677, -0.3789,  0.3185,  0.2918])"
      ]
     },
     "execution_count": 16,
     "metadata": {},
     "output_type": "execute_result"
    }
   ],
   "source": [
    "torch.mean(d,dim=0) # mean of each column"
   ]
  },
  {
   "cell_type": "code",
   "execution_count": 18,
   "metadata": {},
   "outputs": [
    {
     "data": {
      "text/plain": [
       "tensor([-0.1702,  0.0420,  0.3983,  0.0391])"
      ]
     },
     "execution_count": 18,
     "metadata": {},
     "output_type": "execute_result"
    }
   ],
   "source": [
    "torch.mean(d,dim=1) # mean of each row"
   ]
  },
  {
   "cell_type": "markdown",
   "metadata": {},
   "source": [
    "Median, mode, and standard deviation computation can be written in\n",
    "the same way:\n",
    "\n",
    "    torch.median\n",
    "    torch.mode\n",
    "    torch.std\n",
    "    torch.var"
   ]
  },
  {
   "cell_type": "markdown",
   "metadata": {},
   "source": [
    "## Gradient Computation\n",
    "We are going to consider a sample datase0074, where two variables (x and y)\n",
    "are present. With the initial weight given, can we computationally get the\n",
    "gradients after each iteration?"
   ]
  },
  {
   "cell_type": "code",
   "execution_count": null,
   "metadata": {},
   "outputs": [],
   "source": []
  }
 ],
 "metadata": {
  "kernelspec": {
   "display_name": "Python 3",
   "language": "python",
   "name": "python3"
  },
  "language_info": {
   "codemirror_mode": {
    "name": "ipython",
    "version": 3
   },
   "file_extension": ".py",
   "mimetype": "text/x-python",
   "name": "python",
   "nbconvert_exporter": "python",
   "pygments_lexer": "ipython3",
   "version": "3.6.7"
  }
 },
 "nbformat": 4,
 "nbformat_minor": 2
}
